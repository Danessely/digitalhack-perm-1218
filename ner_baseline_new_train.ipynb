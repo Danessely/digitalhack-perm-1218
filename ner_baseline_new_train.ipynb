{
  "cells": [
    {
      "cell_type": "code",
      "execution_count": 6,
      "id": "aNugBRAhBoBE",
      "metadata": {
        "id": "aNugBRAhBoBE"
      },
      "outputs": [],
      "source": [
        "# %pip install razdel transformers datasets seqeval wandb"
      ]
    },
    {
      "cell_type": "code",
      "execution_count": 1,
      "id": "b3aa164a",
      "metadata": {},
      "outputs": [],
      "source": [
        "import random\n",
        "import torch\n",
        "import pandas as pd\n",
        "import numpy as np\n",
        "import matplotlib.pyplot as plt\n",
        "from torch import nn\n",
        "from torch.utils.data import Dataset, DataLoader\n",
        "from tqdm.notebook import tqdm\n",
        "device = \"cuda\" if torch.cuda.is_available() else \"cpu\""
      ]
    },
    {
      "cell_type": "code",
      "execution_count": 2,
      "id": "b6947524",
      "metadata": {},
      "outputs": [],
      "source": [
        "def set_random_seed(seed):\n",
        "    torch.backends.cudnn.deterministic = True\n",
        "    torch.manual_seed(seed)\n",
        "    torch.cuda.manual_seed(seed)\n",
        "    np.random.seed(seed)\n",
        "    random.seed(seed)\n",
        "    # Add smth here if you need...\n",
        "\n",
        "superseed = 1\n",
        "set_random_seed(superseed)"
      ]
    },
    {
      "cell_type": "markdown",
      "id": "78ae1834-ae30-4799-8aa4-5786ee49d845",
      "metadata": {
        "id": "78ae1834-ae30-4799-8aa4-5786ee49d845"
      },
      "source": [
        "### Чтение данных"
      ]
    },
    {
      "cell_type": "code",
      "execution_count": 3,
      "id": "c339f4ce",
      "metadata": {},
      "outputs": [
        {
          "name": "stderr",
          "output_type": "stream",
          "text": [
            "Failed to detect the name of this notebook, you can set it manually with the WANDB_NOTEBOOK_NAME environment variable to enable code saving.\n",
            "\u001b[34m\u001b[1mwandb\u001b[0m: Currently logged in as: \u001b[33mdanessely\u001b[0m. Use \u001b[1m`wandb login --relogin`\u001b[0m to force relogin\n"
          ]
        },
        {
          "data": {
            "text/plain": [
              "True"
            ]
          },
          "execution_count": 3,
          "metadata": {},
          "output_type": "execute_result"
        }
      ],
      "source": [
        "# логирование результатов\n",
        "import wandb\n",
        "wandb.login()"
      ]
    },
    {
      "cell_type": "code",
      "execution_count": 5,
      "id": "34f651cc-6e8c-431c-a84e-2e7d310c9d20",
      "metadata": {
        "id": "34f651cc-6e8c-431c-a84e-2e7d310c9d20"
      },
      "outputs": [
        {
          "data": {
            "text/html": [
              "<div>\n",
              "<style scoped>\n",
              "    .dataframe tbody tr th:only-of-type {\n",
              "        vertical-align: middle;\n",
              "    }\n",
              "\n",
              "    .dataframe tbody tr th {\n",
              "        vertical-align: top;\n",
              "    }\n",
              "\n",
              "    .dataframe thead th {\n",
              "        text-align: right;\n",
              "    }\n",
              "</style>\n",
              "<table border=\"1\" class=\"dataframe\">\n",
              "  <thead>\n",
              "    <tr style=\"text-align: right;\">\n",
              "      <th></th>\n",
              "      <th>video_info</th>\n",
              "      <th>entities</th>\n",
              "    </tr>\n",
              "  </thead>\n",
              "  <tbody>\n",
              "    <tr>\n",
              "      <th>0</th>\n",
              "      <td>&lt;НАЗВАНИЕ:&gt; Агент 117: Из Африки с любовью — Р...</td>\n",
              "      <td>{\"label\":\"локация\"\\,\"offset\":26\\,\"length\":6\\,\"...</td>\n",
              "    </tr>\n",
              "    <tr>\n",
              "      <th>1</th>\n",
              "      <td>&lt;НАЗВАНИЕ:&gt; Коленвал Инфинити Ку икс 56= 5.6 V...</td>\n",
              "      <td>{\"label\":\"организация\"\\,\"offset\":196\\,\"length\"...</td>\n",
              "    </tr>\n",
              "    <tr>\n",
              "      <th>2</th>\n",
              "      <td>&lt;НАЗВАНИЕ:&gt; ВЫЗОВ ДЕМОНА = Вызвал Серого Челов...</td>\n",
              "      <td>{\"label\":\"название проекта\"\\,\"offset\":12\\,\"len...</td>\n",
              "    </tr>\n",
              "    <tr>\n",
              "      <th>3</th>\n",
              "      <td>&lt;НАЗВАНИЕ:&gt; Довоенная немецкая кирха в Калинин...</td>\n",
              "      <td>{\"label\":\"не найдено\"\\,\"offset\":162\\,\"length\":...</td>\n",
              "    </tr>\n",
              "    <tr>\n",
              "      <th>4</th>\n",
              "      <td>&lt;НАЗВАНИЕ:&gt; \"Спартаку\" помогли судьи? Локомоти...</td>\n",
              "      <td>{\"label\":\"команда\"\\,\"offset\":13\\,\"length\":8\\,\"...</td>\n",
              "    </tr>\n",
              "  </tbody>\n",
              "</table>\n",
              "</div>"
            ],
            "text/plain": [
              "                                          video_info  \\\n",
              "0  <НАЗВАНИЕ:> Агент 117: Из Африки с любовью — Р...   \n",
              "1  <НАЗВАНИЕ:> Коленвал Инфинити Ку икс 56= 5.6 V...   \n",
              "2  <НАЗВАНИЕ:> ВЫЗОВ ДЕМОНА = Вызвал Серого Челов...   \n",
              "3  <НАЗВАНИЕ:> Довоенная немецкая кирха в Калинин...   \n",
              "4  <НАЗВАНИЕ:> \"Спартаку\" помогли судьи? Локомоти...   \n",
              "\n",
              "                                            entities  \n",
              "0  {\"label\":\"локация\"\\,\"offset\":26\\,\"length\":6\\,\"...  \n",
              "1  {\"label\":\"организация\"\\,\"offset\":196\\,\"length\"...  \n",
              "2  {\"label\":\"название проекта\"\\,\"offset\":12\\,\"len...  \n",
              "3  {\"label\":\"не найдено\"\\,\"offset\":162\\,\"length\":...  \n",
              "4  {\"label\":\"команда\"\\,\"offset\":13\\,\"length\":8\\,\"...  "
            ]
          },
          "execution_count": 5,
          "metadata": {},
          "output_type": "execute_result"
        }
      ],
      "source": [
        "data = pd.read_csv(\"data/train_data/ner_data_train.csv\")\n",
        "data.head(5)"
      ]
    },
    {
      "cell_type": "code",
      "execution_count": 6,
      "id": "902ad843-b9a6-4aeb-b283-6590444aea06",
      "metadata": {
        "id": "902ad843-b9a6-4aeb-b283-6590444aea06"
      },
      "outputs": [
        {
          "data": {
            "text/html": [
              "<div>\n",
              "<style scoped>\n",
              "    .dataframe tbody tr th:only-of-type {\n",
              "        vertical-align: middle;\n",
              "    }\n",
              "\n",
              "    .dataframe tbody tr th {\n",
              "        vertical-align: top;\n",
              "    }\n",
              "\n",
              "    .dataframe thead th {\n",
              "        text-align: right;\n",
              "    }\n",
              "</style>\n",
              "<table border=\"1\" class=\"dataframe\">\n",
              "  <thead>\n",
              "    <tr style=\"text-align: right;\">\n",
              "      <th></th>\n",
              "      <th>video_info</th>\n",
              "      <th>entities</th>\n",
              "    </tr>\n",
              "  </thead>\n",
              "  <tbody>\n",
              "    <tr>\n",
              "      <th>0</th>\n",
              "      <td>&lt;НАЗВАНИЕ:&gt; Агент 117: Из Африки с любовью — Р...</td>\n",
              "      <td>[{'label': 'локация', 'offset': 26, 'length': ...</td>\n",
              "    </tr>\n",
              "    <tr>\n",
              "      <th>1</th>\n",
              "      <td>&lt;НАЗВАНИЕ:&gt; Коленвал Инфинити Ку икс 56= 5.6 V...</td>\n",
              "      <td>[{'label': 'организация', 'offset': 196, 'leng...</td>\n",
              "    </tr>\n",
              "    <tr>\n",
              "      <th>2</th>\n",
              "      <td>&lt;НАЗВАНИЕ:&gt; ВЫЗОВ ДЕМОНА = Вызвал Серого Челов...</td>\n",
              "      <td>[{'label': 'название проекта', 'offset': 12, '...</td>\n",
              "    </tr>\n",
              "  </tbody>\n",
              "</table>\n",
              "</div>"
            ],
            "text/plain": [
              "                                          video_info  \\\n",
              "0  <НАЗВАНИЕ:> Агент 117: Из Африки с любовью — Р...   \n",
              "1  <НАЗВАНИЕ:> Коленвал Инфинити Ку икс 56= 5.6 V...   \n",
              "2  <НАЗВАНИЕ:> ВЫЗОВ ДЕМОНА = Вызвал Серого Челов...   \n",
              "\n",
              "                                            entities  \n",
              "0  [{'label': 'локация', 'offset': 26, 'length': ...  \n",
              "1  [{'label': 'организация', 'offset': 196, 'leng...  \n",
              "2  [{'label': 'название проекта', 'offset': 12, '...  "
            ]
          },
          "execution_count": 6,
          "metadata": {},
          "output_type": "execute_result"
        }
      ],
      "source": [
        "# данные спарсены с Толоки, поэтому могут иметь проблемы с символами и их нужно избежать,\n",
        "# удалить лишние '\\' например, преобразовать из str в список dict-ов\n",
        "import json\n",
        "df = data.copy()\n",
        "df['entities'] = df['entities'].apply(lambda l: l.replace('\\,', ',')if isinstance(l, str) else l)\n",
        "df['entities'] = df['entities'].apply(lambda l: l.replace('\\\\\\\\', '\\\\')if isinstance(l, str) else l)\n",
        "df['entities'] = df['entities'].apply(lambda l: '[' + l + ']'if isinstance(l, str) else l)\n",
        "df['entities'] = df['entities'].apply(lambda l: json.loads(l)if isinstance(l, str) else l)\n",
        "\n",
        "df.head(3)"
      ]
    },
    {
      "cell_type": "code",
      "execution_count": 7,
      "id": "ee336880-48fd-4c3c-9b84-4f9487d5d74b",
      "metadata": {
        "id": "ee336880-48fd-4c3c-9b84-4f9487d5d74b"
      },
      "outputs": [],
      "source": [
        "# Теперь из наших данных нам нужно извлечь для каждого слова (токена) его тег (label) из разметки, чтобы потом предать в модель классификации токенов\n",
        "from razdel import tokenize\n",
        "\n",
        "def extract_labels(item):\n",
        "\n",
        "    # воспользуемся удобным токенайзером из библиотеки razdel,\n",
        "    # она помимо разбиения на слова, сохраняет важные для нас числа - начало и конец слова в токенах\n",
        "\n",
        "    raw_toks = list(tokenize(item['video_info']))\n",
        "    words = [tok.text for tok in raw_toks]\n",
        "    # words = item['video_info']\n",
        "    # присвоим для начала каждому слову тег 'О' - тег, означающий отсутствие NER-а\n",
        "    word_labels = ['O'] * len(raw_toks)\n",
        "    char2word = [None] * len(item['video_info'])\n",
        "    # так как NER можем состаять из нескольких слов, то нам нужно сохранить эту инфорцию\n",
        "    for i, word in enumerate(raw_toks):\n",
        "        char2word[word.start:word.stop] = [i] * len(word.text)\n",
        "\n",
        "    labels = item['entities']\n",
        "    if isinstance(labels, dict):\n",
        "        labels = [labels]\n",
        "    if labels is not None:\n",
        "        for e in labels:\n",
        "            if e['label'] != 'не найдено':\n",
        "                e_words = sorted({idx for idx in char2word[e['offset']:e['offset']+e['length']] if idx is not None})\n",
        "                if e_words:\n",
        "                    word_labels[e_words[0]] = 'B-' + e['label']\n",
        "                    for idx in e_words[1:]:\n",
        "                        word_labels[idx] = 'I-' + e['label']\n",
        "                else:\n",
        "                    continue\n",
        "            else:\n",
        "                continue\n",
        "        return {'tokens': words, 'tags': word_labels}\n",
        "    else: return {'tokens': words, 'tags': word_labels}"
      ]
    },
    {
      "cell_type": "code",
      "execution_count": 8,
      "id": "0e2d3224-bd70-4a99-bdb3-fee8945ce2b2",
      "metadata": {
        "colab": {
          "base_uri": "https://localhost:8080/"
        },
        "id": "0e2d3224-bd70-4a99-bdb3-fee8945ce2b2",
        "outputId": "49b163e5-c116-4f5e-c882-7d863f89cb04"
      },
      "outputs": [
        {
          "name": "stdout",
          "output_type": "stream",
          "text": [
            "{'tokens': ['<', 'НАЗВАНИЕ', ':', '>', 'Агент', '117', ':', 'Из', 'Африки', 'с', 'любовью', '—', 'Русский', 'тизер', '=', 'трейлер', '(', '2021', ')', '<', 'ОПИСАНИЕ', ':', '>', 'Лучший', 'Telegram', 'канал', 'о', 'кино', '<', 'LINK', '>', 'Сотрудничество', '<', 'LINK', '>', 'Дата', 'выхода', '26', 'августа', '2021', 'Оригинальное', 'название', ':', 'OSS', '117', ':', 'Alerte', 'rouge', 'en', 'Afrique', 'noire', 'Страна', ':', 'Франция', 'Режиссер', ':', 'Николя', 'Бедос', 'Жанр', ':', 'боевик', ',', 'комедия', 'В', 'главных', 'ролях', ':', 'Жан', 'Дюжарден', ',', 'Пьер', 'Нинэ', ',', 'Мелоди', 'Каста', ',', 'Наташа', 'Линдинжер', ',', 'Владимир', 'Иорданов', ',', 'Фату', 'Н', '’', 'Диайе', ',', 'Пол', 'Уайт', 'Мир', 'изменился', '.', 'Он', 'нет', '.', 'Судьба', 'заносит', 'легендарного', 'Агента', '117', 'в', 'Африку', ',', 'где', 'горячее', 'пустыни', 'только', 'женщины', '.', 'Вооруженный', 'неиссякаемой', 'уверенностью', 'в', 'себе', 'и', 'убийственной', 'харизмой', ',', 'он', 'может', 'справиться', 'со', 'всеми', 'врагами', ',', 'кроме', 'самого', 'себя', '.', 'По', 'вопросам', 'авторского', 'права', ',', 'пожалуйста', ',', 'свяжитесь', 'с', 'нами', 'по', 'адресу', ':', '<', 'AT', '>'], 'tags': ['O', 'O', 'O', 'O', 'O', 'O', 'O', 'O', 'B-локация', 'O', 'O', 'O', 'O', 'O', 'O', 'O', 'O', 'O', 'O', 'O', 'O', 'O', 'O', 'O', 'O', 'O', 'O', 'O', 'O', 'O', 'O', 'O', 'O', 'O', 'O', 'O', 'O', 'B-Дата', 'I-Дата', 'I-Дата', 'O', 'O', 'O', 'B-название проекта', 'I-название проекта', 'I-название проекта', 'I-название проекта', 'I-название проекта', 'I-название проекта', 'I-название проекта', 'I-название проекта', 'O', 'O', 'B-локация', 'O', 'O', 'B-персона', 'I-персона', 'O', 'O', 'O', 'O', 'O', 'O', 'O', 'O', 'O', 'B-персона', 'I-персона', 'O', 'B-персона', 'I-персона', 'O', 'B-персона', 'I-персона', 'O', 'B-персона', 'I-персона', 'O', 'B-персона', 'I-персона', 'O', 'B-персона', 'I-персона', 'I-персона', 'I-персона', 'O', 'B-персона', 'I-персона', 'O', 'O', 'O', 'O', 'O', 'O', 'O', 'O', 'O', 'O', 'O', 'O', 'B-локация', 'O', 'O', 'O', 'O', 'O', 'O', 'O', 'O', 'O', 'O', 'O', 'O', 'O', 'O', 'O', 'O', 'O', 'O', 'O', 'O', 'O', 'O', 'O', 'O', 'O', 'O', 'O', 'O', 'O', 'O', 'O', 'O', 'O', 'O', 'O', 'O', 'O', 'O', 'O', 'O', 'O', 'O', 'O']}\n"
          ]
        }
      ],
      "source": [
        "print(extract_labels(df.iloc[0]))"
      ]
    },
    {
      "cell_type": "markdown",
      "id": "d43db9d6-76f9-4f24-87ce-bea724a238a9",
      "metadata": {
        "id": "d43db9d6-76f9-4f24-87ce-bea724a238a9"
      },
      "source": [
        "### Разбивка данных"
      ]
    },
    {
      "cell_type": "code",
      "execution_count": 9,
      "id": "fea76082-efcc-44da-ba3c-7dd466d3ecb2",
      "metadata": {
        "id": "fea76082-efcc-44da-ba3c-7dd466d3ecb2",
        "scrolled": true
      },
      "outputs": [],
      "source": [
        "from sklearn.model_selection import train_test_split\n",
        "ner_data = [extract_labels(item) for i, item in df.iterrows()]\n",
        "ner_train, ner_test = train_test_split(ner_data, test_size=0.2, random_state=superseed)"
      ]
    },
    {
      "cell_type": "code",
      "execution_count": 10,
      "id": "6f181346-579e-4804-975a-f6133a86a985",
      "metadata": {
        "colab": {
          "base_uri": "https://localhost:8080/",
          "height": 404
        },
        "id": "6f181346-579e-4804-975a-f6133a86a985",
        "outputId": "33de2b2c-1e3b-449f-c45f-9afef96b759b"
      },
      "outputs": [
        {
          "data": {
            "text/html": [
              "<div>\n",
              "<style scoped>\n",
              "    .dataframe tbody tr th:only-of-type {\n",
              "        vertical-align: middle;\n",
              "    }\n",
              "\n",
              "    .dataframe tbody tr th {\n",
              "        vertical-align: top;\n",
              "    }\n",
              "\n",
              "    .dataframe thead th {\n",
              "        text-align: right;\n",
              "    }\n",
              "</style>\n",
              "<table border=\"1\" class=\"dataframe\">\n",
              "  <thead>\n",
              "    <tr style=\"text-align: right;\">\n",
              "      <th></th>\n",
              "      <th>tokens</th>\n",
              "      <th>tags</th>\n",
              "    </tr>\n",
              "  </thead>\n",
              "  <tbody>\n",
              "    <tr>\n",
              "      <th>3035</th>\n",
              "      <td>[&lt;, НАЗВАНИЕ, :, &gt;, Убрался, в, дерево, ., Что, случилось, за, кадром, ?, Новогодний, конкурс, &lt;, ОПИСАНИЕ, :, &gt;, Условия, конкурса, просты, :, Для, Вконтакте, сделать, репост, этой, записи, (, &lt;, LINK, &gt;, 71769372_33169, ), Для, YouTube, написать, в, комментариях, #, дедебашит, Аренда, авто, Кр...</td>\n",
              "      <td>[O, O, O, O, O, O, O, O, O, O, O, O, O, O, O, O, O, O, O, O, O, O, O, O, O, O, O, O, O, O, O, O, O, O, O, O, B-организация, O, O, O, O, O, O, O, O, O, O, O, O, O, O, O, O, O, O, O, O, O, O, O, O, O, O, O, O, O, O, O]</td>\n",
              "    </tr>\n",
              "    <tr>\n",
              "      <th>1714</th>\n",
              "      <td>[&lt;, НАЗВАНИЕ, :, &gt;, Так, в, России, не, учат, ,, новая, школа, программирования, от, Сбера, &lt;, ОПИСАНИЕ, :, &gt;, Не, так, много, людей, знает, что, такое, Школа, 21, (, School, 21, ), ,, кто, то, слышал, ,, но, по, прежнему, возникает, много, вопросов, :, как, учат, ,, как, попасть, ,, что, получи...</td>\n",
              "      <td>[O, O, O, O, O, O, O, O, O, O, O, O, O, O, B-организация, O, O, O, O, O, O, O, O, O, O, O, O, O, O, O, O, O, O, O, O, O, O, O, O, O, O, O, O, O, O, O, O, O, O, O, O, O, O, O, O, O, O, O, B-организация, O, B-организация, I-организация, O, O, O, O, B-персона, O, O, O, O, B-локация, O, O, O, O, B-п...</td>\n",
              "    </tr>\n",
              "    <tr>\n",
              "      <th>280</th>\n",
              "      <td>[&lt;, НАЗВАНИЕ, :, &gt;, КАНАН, АББАСОВ, =, ИНТЕРВЬЮ, с, актёром, сериала, \", ДИАГНОЗ, \", (, часть, 2, ), 😳, &lt;, ОПИСАНИЕ, :, &gt;, Интервью, с, актёром, моего, проекта, сериала, на, Rutube, \", Диагноз, \", Кананом, Аббасовым, как, проходили, съёмки, ?, какие, были, сложности, ?, жалеет, ли, Вадим, об, уч...</td>\n",
              "      <td>[O, O, O, O, B-персона, I-персона, O, O, O, O, O, O, B-название проекта, O, O, O, B-сезон, O, O, O, O, O, O, O, O, O, O, O, O, O, B-бренд, O, B-название проекта, I-название проекта, B-персона, I-персона, O, O, O, O, O, O, O, O, O, O, B-персона, O, O, O, O, O, O, O, O, O, O, O, O, O, O, O, O, O, ...</td>\n",
              "    </tr>\n",
              "  </tbody>\n",
              "</table>\n",
              "</div>"
            ],
            "text/plain": [
              "                                                                                                                                                                                                                                                                                                           tokens  \\\n",
              "3035  [<, НАЗВАНИЕ, :, >, Убрался, в, дерево, ., Что, случилось, за, кадром, ?, Новогодний, конкурс, <, ОПИСАНИЕ, :, >, Условия, конкурса, просты, :, Для, Вконтакте, сделать, репост, этой, записи, (, <, LINK, >, 71769372_33169, ), Для, YouTube, написать, в, комментариях, #, дедебашит, Аренда, авто, Кр...   \n",
              "1714  [<, НАЗВАНИЕ, :, >, Так, в, России, не, учат, ,, новая, школа, программирования, от, Сбера, <, ОПИСАНИЕ, :, >, Не, так, много, людей, знает, что, такое, Школа, 21, (, School, 21, ), ,, кто, то, слышал, ,, но, по, прежнему, возникает, много, вопросов, :, как, учат, ,, как, попасть, ,, что, получи...   \n",
              "280   [<, НАЗВАНИЕ, :, >, КАНАН, АББАСОВ, =, ИНТЕРВЬЮ, с, актёром, сериала, \", ДИАГНОЗ, \", (, часть, 2, ), 😳, <, ОПИСАНИЕ, :, >, Интервью, с, актёром, моего, проекта, сериала, на, Rutube, \", Диагноз, \", Кананом, Аббасовым, как, проходили, съёмки, ?, какие, были, сложности, ?, жалеет, ли, Вадим, об, уч...   \n",
              "\n",
              "                                                                                                                                                                                                                                                                                                             tags  \n",
              "3035                                                                                     [O, O, O, O, O, O, O, O, O, O, O, O, O, O, O, O, O, O, O, O, O, O, O, O, O, O, O, O, O, O, O, O, O, O, O, O, B-организация, O, O, O, O, O, O, O, O, O, O, O, O, O, O, O, O, O, O, O, O, O, O, O, O, O, O, O, O, O, O, O]  \n",
              "1714  [O, O, O, O, O, O, O, O, O, O, O, O, O, O, B-организация, O, O, O, O, O, O, O, O, O, O, O, O, O, O, O, O, O, O, O, O, O, O, O, O, O, O, O, O, O, O, O, O, O, O, O, O, O, O, O, O, O, O, O, B-организация, O, B-организация, I-организация, O, O, O, O, B-персона, O, O, O, O, B-локация, O, O, O, O, B-п...  \n",
              "280   [O, O, O, O, B-персона, I-персона, O, O, O, O, O, O, B-название проекта, O, O, O, B-сезон, O, O, O, O, O, O, O, O, O, O, O, O, O, B-бренд, O, B-название проекта, I-название проекта, B-персона, I-персона, O, O, O, O, O, O, O, O, O, O, B-персона, O, O, O, O, O, O, O, O, O, O, O, O, O, O, O, O, O, ...  "
            ]
          },
          "execution_count": 10,
          "metadata": {},
          "output_type": "execute_result"
        }
      ],
      "source": [
        "import pandas as pd\n",
        "pd.options.display.max_colwidth = 300\n",
        "pd.DataFrame(ner_train).sample(3, random_state=superseed)"
      ]
    },
    {
      "cell_type": "code",
      "execution_count": 11,
      "id": "1d154c93-c038-4c4a-b9ee-8dba7bd1a21c",
      "metadata": {
        "colab": {
          "base_uri": "https://localhost:8080/"
        },
        "id": "1d154c93-c038-4c4a-b9ee-8dba7bd1a21c",
        "outputId": "c908979c-dc42-4ea3-82a6-a36ad771409c",
        "scrolled": true
      },
      "outputs": [
        {
          "data": {
            "text/plain": [
              "['O',\n",
              " 'B-Дата',\n",
              " 'B-бренд',\n",
              " 'B-вид спорта',\n",
              " 'B-видеоигра',\n",
              " 'B-команда',\n",
              " 'B-лига',\n",
              " 'B-локация',\n",
              " 'B-модель',\n",
              " 'B-название проекта',\n",
              " 'B-организация',\n",
              " 'B-персона',\n",
              " 'B-сезон',\n",
              " 'B-серия',\n",
              " 'I-Дата',\n",
              " 'I-бренд',\n",
              " 'I-вид спорта',\n",
              " 'I-видеоигра',\n",
              " 'I-команда',\n",
              " 'I-лига',\n",
              " 'I-локация',\n",
              " 'I-модель',\n",
              " 'I-название проекта',\n",
              " 'I-организация',\n",
              " 'I-персона',\n",
              " 'I-сезон',\n",
              " 'I-серия']"
            ]
          },
          "execution_count": 11,
          "metadata": {},
          "output_type": "execute_result"
        }
      ],
      "source": [
        "label_list = sorted({label for item in ner_train for label in item['tags']})\n",
        "if 'O' in label_list:\n",
        "    label_list.remove('O')\n",
        "    label_list = ['O'] + label_list\n",
        "label_list"
      ]
    },
    {
      "cell_type": "code",
      "execution_count": 12,
      "id": "nsQbkx6UXwCM",
      "metadata": {
        "id": "nsQbkx6UXwCM"
      },
      "outputs": [],
      "source": [
        "labels_to_ids = {v:k for k,v in enumerate(label_list)}\n",
        "ids_to_labels = {k:v for k,v in enumerate(label_list)}"
      ]
    },
    {
      "cell_type": "code",
      "execution_count": 13,
      "id": "mso4jM1rVPBD",
      "metadata": {
        "id": "mso4jM1rVPBD"
      },
      "outputs": [],
      "source": [
        "class NERDataset(Dataset):\n",
        "  def __init__(self, dataframe, tokenizer, max_len=512):\n",
        "        self.len = len(dataframe)\n",
        "        self.data = dataframe\n",
        "        self.tokenizer = tokenizer\n",
        "        self.max_len = max_len\n",
        "\n",
        "  def __getitem__(self, index):\n",
        "        # step 1: get the sentence and word labels\n",
        "        tokens = self.data.tokens[index]\n",
        "        word_labels = self.data.tags[index]\n",
        "\n",
        "        # step 2: use tokenizer to encode sentence (includes padding/truncation up to max length)\n",
        "        # BertTokenizerFast provides a handy \"return_offsets_mapping\" functionality for individual tokens\n",
        "        tokenized_inputs = self.tokenizer(tokens, truncation=True,\n",
        "                                     is_split_into_words=True,\n",
        "                                     padding='max_length',\n",
        "                                     max_length=self.max_len)\n",
        "\n",
        "        # step 3: create token labels only for first word pieces of each tokenized word\n",
        "        # pdb.set_trace()\n",
        "        labels = [labels_to_ids[label] for label in word_labels]\n",
        "        # code based on https://huggingface.co/transformers/custom_datasets.html#tok-ner\n",
        "        # create an empty array of -100 of length max_length\n",
        "        # print(len(sentence), len(labels))\n",
        "\n",
        "        word_ids = tokenized_inputs.word_ids()\n",
        "        previous_word_idx = None\n",
        "        label_ids = []\n",
        "        for word_idx in word_ids:\n",
        "            # Special tokens have a word id that is None. We set the label to -100 so they are automatically\n",
        "            # ignored in the loss function.\n",
        "            if word_idx is None:\n",
        "                label_ids.append(-100)\n",
        "            # We set the label for the first token of each word.\n",
        "            elif word_idx != previous_word_idx:\n",
        "                label_ids.append(labels[word_idx])\n",
        "            # For the other tokens in a word, we set the label to either the current label or -100, depending on\n",
        "            # the label_all_tokens flag.\n",
        "            else:\n",
        "                label_ids.append(labels[word_idx])\n",
        "            previous_word_idx = word_idx\n",
        "\n",
        "        label_ids = [label_list.index(idx) if isinstance(idx, str) else idx for idx in label_ids]\n",
        "\n",
        "        item = {key: torch.as_tensor(val) for key, val in tokenized_inputs.items()}\n",
        "        item['labels'] = torch.as_tensor(label_ids)\n",
        "\n",
        "        return item\n",
        "\n",
        "  def __len__(self):\n",
        "        return self.len"
      ]
    },
    {
      "cell_type": "markdown",
      "id": "bd286f0c-d748-4289-bf3e-8064e45186cc",
      "metadata": {
        "id": "bd286f0c-d748-4289-bf3e-8064e45186cc"
      },
      "source": [
        "### Выбор модели"
      ]
    },
    {
      "cell_type": "code",
      "execution_count": 14,
      "id": "Zyq-cemdYMl7",
      "metadata": {
        "id": "Zyq-cemdYMl7"
      },
      "outputs": [],
      "source": [
        "from transformers import AutoTokenizer, AutoModelForTokenClassification, BertModel, BertConfig\n",
        "from datasets import load_metric"
      ]
    },
    {
      "cell_type": "code",
      "execution_count": 15,
      "id": "417623f9-c9ac-488f-9e1b-31dbf61e049f",
      "metadata": {
        "id": "417623f9-c9ac-488f-9e1b-31dbf61e049f"
      },
      "outputs": [],
      "source": [
        "# model_checkpoint = \"ai-forever/ruBert-base\"\n",
        "model_checkpoint = \"cointegrated/rubert-tiny\""
      ]
    },
    {
      "cell_type": "code",
      "execution_count": 16,
      "id": "K-gOhMmiZr_W",
      "metadata": {
        "colab": {
          "base_uri": "https://localhost:8080/"
        },
        "id": "K-gOhMmiZr_W",
        "outputId": "cc9bb524-5d47-4e2d-a6c4-f1a7ba76590c"
      },
      "outputs": [],
      "source": [
        "tokenizer = AutoTokenizer.from_pretrained(model_checkpoint, device=device)"
      ]
    },
    {
      "cell_type": "code",
      "execution_count": 17,
      "id": "lI3Zix-3xR37",
      "metadata": {
        "colab": {
          "base_uri": "https://localhost:8080/"
        },
        "id": "lI3Zix-3xR37",
        "outputId": "be3c34ed-03c5-4577-de5d-0be67a5eadb9"
      },
      "outputs": [
        {
          "name": "stdout",
          "output_type": "stream",
          "text": [
            "FULL Dataset: 6422\n",
            "TRAIN Dataset: 5137\n",
            "TEST Dataset: 1285\n"
          ]
        }
      ],
      "source": [
        "train_set = NERDataset(pd.DataFrame(ner_train), tokenizer=tokenizer)\n",
        "test_set = NERDataset(pd.DataFrame(ner_test), tokenizer=tokenizer)\n",
        "\n",
        "print(\"FULL Dataset: {}\".format(len(ner_train) + len(ner_test)))\n",
        "print(\"TRAIN Dataset: {}\".format(len(ner_train)))\n",
        "print(\"TEST Dataset: {}\".format(len(ner_test)))"
      ]
    },
    {
      "cell_type": "code",
      "execution_count": 18,
      "id": "KJ3JWCqi3DyV",
      "metadata": {
        "id": "KJ3JWCqi3DyV"
      },
      "outputs": [],
      "source": [
        "train_params = {'batch_size': 4,\n",
        "                'shuffle': True,\n",
        "                }\n",
        "\n",
        "test_params = {'batch_size': 8,\n",
        "                'shuffle': False,\n",
        "                }\n",
        "\n",
        "train_loader = DataLoader(train_set, **train_params)\n",
        "test_loader = DataLoader(test_set, **test_params)"
      ]
    },
    {
      "cell_type": "code",
      "execution_count": 19,
      "id": "5e86959f",
      "metadata": {},
      "outputs": [
        {
          "name": "stderr",
          "output_type": "stream",
          "text": [
            "Some weights of the model checkpoint at cointegrated/rubert-tiny were not used when initializing BertForTokenClassification: ['cls.predictions.decoder.weight', 'cls.predictions.transform.dense.weight', 'cls.predictions.transform.LayerNorm.weight', 'cls.predictions.decoder.bias', 'cls.seq_relationship.weight', 'cls.predictions.transform.dense.bias', 'cls.predictions.transform.LayerNorm.bias', 'cls.seq_relationship.bias', 'cls.predictions.bias']\n",
            "- This IS expected if you are initializing BertForTokenClassification from the checkpoint of a model trained on another task or with another architecture (e.g. initializing a BertForSequenceClassification model from a BertForPreTraining model).\n",
            "- This IS NOT expected if you are initializing BertForTokenClassification from the checkpoint of a model that you expect to be exactly identical (initializing a BertForSequenceClassification model from a BertForSequenceClassification model).\n",
            "Some weights of BertForTokenClassification were not initialized from the model checkpoint at cointegrated/rubert-tiny and are newly initialized: ['classifier.bias', 'classifier.weight']\n",
            "You should probably TRAIN this model on a down-stream task to be able to use it for predictions and inference.\n"
          ]
        }
      ],
      "source": [
        "model = AutoModelForTokenClassification.from_pretrained(model_checkpoint, num_labels=len(label_list))"
      ]
    },
    {
      "cell_type": "code",
      "execution_count": 20,
      "id": "_YPZJ3NN31et",
      "metadata": {
        "colab": {
          "base_uri": "https://localhost:8080/"
        },
        "id": "_YPZJ3NN31et",
        "outputId": "30857f29-5977-4c21-db9f-ccc6a0649012"
      },
      "outputs": [
        {
          "data": {
            "text/plain": [
              "tensor(3.4282, device='cuda:0', grad_fn=<NllLossBackward0>)"
            ]
          },
          "execution_count": 20,
          "metadata": {},
          "output_type": "execute_result"
        }
      ],
      "source": [
        "# проверка выхода\n",
        "model.to(device)\n",
        "inputs = next(iter(train_loader))\n",
        "input_ids = inputs[\"input_ids\"]\n",
        "attention_mask = inputs[\"attention_mask\"]\n",
        "labels = inputs[\"labels\"]\n",
        "\n",
        "input_ids = input_ids.to(device)\n",
        "attention_mask = attention_mask.to(device)\n",
        "labels = labels.to(device)\n",
        "\n",
        "outputs = model(input_ids, attention_mask=attention_mask, labels=labels,\n",
        "               return_dict=False)\n",
        "initial_loss = outputs[0]\n",
        "initial_loss"
      ]
    },
    {
      "cell_type": "markdown",
      "id": "84536356",
      "metadata": {},
      "source": [
        "### Кастомные модели"
      ]
    },
    {
      "cell_type": "code",
      "execution_count": 21,
      "metadata": {},
      "outputs": [],
      "source": [
        "class CustomHead(nn.Module):\n",
        "    \"\"\"\n",
        "    A pre-trained BERT model with a custom classifier.\n",
        "    The classifier is a neural network implemented in this class.\n",
        "    \"\"\"\n",
        "    \n",
        "    def __init__(self, model_checkpoint, hidden_dim, num_labels):\n",
        "        super().__init__()\n",
        "        self.bert = BertConfig.from_pretrained(model_checkpoint)\n",
        "        self.in_features = self.bert.hidden_size\n",
        "\n",
        "        self.model = nn.Sequential(\n",
        "            nn.Linear(in_features=self.in_features, out_features=hidden_dim),\n",
        "            nn.ReLU(),\n",
        "            nn.Dropout(p=0.3),\n",
        "            # nn.BatchNorm1d(num_features=hidden_dim),\n",
        "            nn.Linear(in_features=hidden_dim, out_features=hidden_dim),\n",
        "            nn.ReLU(),\n",
        "            nn.Linear(in_features=hidden_dim, out_features=num_labels)\n",
        "        )\n",
        "\n",
        "        \n",
        "    def forward(self, bert_output):\n",
        "        x = bert_output\n",
        "        return self.model(x)"
      ]
    },
    {
      "cell_type": "code",
      "execution_count": 22,
      "id": "bf3a9021",
      "metadata": {},
      "outputs": [
        {
          "name": "stderr",
          "output_type": "stream",
          "text": [
            "Some weights of the model checkpoint at cointegrated/rubert-tiny were not used when initializing BertForTokenClassification: ['cls.predictions.decoder.weight', 'cls.predictions.transform.dense.weight', 'cls.predictions.transform.LayerNorm.weight', 'cls.predictions.decoder.bias', 'cls.seq_relationship.weight', 'cls.predictions.transform.dense.bias', 'cls.predictions.transform.LayerNorm.bias', 'cls.seq_relationship.bias', 'cls.predictions.bias']\n",
            "- This IS expected if you are initializing BertForTokenClassification from the checkpoint of a model trained on another task or with another architecture (e.g. initializing a BertForSequenceClassification model from a BertForPreTraining model).\n",
            "- This IS NOT expected if you are initializing BertForTokenClassification from the checkpoint of a model that you expect to be exactly identical (initializing a BertForSequenceClassification model from a BertForSequenceClassification model).\n",
            "Some weights of BertForTokenClassification were not initialized from the model checkpoint at cointegrated/rubert-tiny and are newly initialized: ['classifier.bias', 'classifier.weight']\n",
            "You should probably TRAIN this model on a down-stream task to be able to use it for predictions and inference.\n"
          ]
        }
      ],
      "source": [
        "custom_classifier = CustomHead(model_checkpoint, 512, 27)\n",
        "custom_model = AutoModelForTokenClassification.from_pretrained(model_checkpoint, num_labels=len(label_list))\n",
        "custom_model.classifier = custom_classifier"
      ]
    },
    {
      "cell_type": "code",
      "execution_count": 23,
      "id": "5dd50781",
      "metadata": {},
      "outputs": [
        {
          "data": {
            "text/plain": [
              "tensor(3.3092, device='cuda:0', grad_fn=<NllLossBackward0>)"
            ]
          },
          "execution_count": 23,
          "metadata": {},
          "output_type": "execute_result"
        }
      ],
      "source": [
        "custom_model.to(device)\n",
        "inputs = next(iter(train_loader))\n",
        "input_ids = inputs[\"input_ids\"]\n",
        "attention_mask = inputs[\"attention_mask\"]\n",
        "labels = inputs[\"labels\"]\n",
        "\n",
        "input_ids = input_ids.to(device)\n",
        "attention_mask = attention_mask.to(device)\n",
        "labels = labels.to(device)\n",
        "\n",
        "outputs = custom_model(input_ids, attention_mask=attention_mask, labels=labels,\n",
        "               return_dict=True)\n",
        "initial_loss = outputs[0]\n",
        "initial_loss"
      ]
    },
    {
      "cell_type": "markdown",
      "id": "fe5dffc7",
      "metadata": {},
      "source": [
        "### Кастомный bertclass"
      ]
    },
    {
      "cell_type": "code",
      "execution_count": 24,
      "id": "9d2dbc4d",
      "metadata": {},
      "outputs": [],
      "source": [
        "from transformers import BertForTokenClassification"
      ]
    },
    {
      "cell_type": "code",
      "execution_count": 101,
      "id": "b05d673b",
      "metadata": {},
      "outputs": [],
      "source": [
        "in_features = 312\n",
        "latent_head_dim = 256\n",
        "num_labels = 27\n",
        "\n",
        "class BertTokenClassHead(BertForTokenClassification):\n",
        "    def __init__(self, config):\n",
        "        super().__init__(config)\n",
        "        self.classifier = nn.Linear(in_features=in_features, out_features=num_labels)\n",
        "        # self.classifier = nn.Sequential(\n",
        "            # nn.Linear(in_features=in_features, out_features=latent_head_dim),\n",
        "            # nn.ReLU(),\n",
        "            # nn.Dropout(p=0.3),\n",
        "            # nn.BatchNorm1d(num_features=latent_head_dim),\n",
        "            # nn.Linear(in_features=latent_head_dim, out_features=latent_head_dim),\n",
        "            # nn.ReLU(),\n",
        "            # nn.Linear(in_features=latent_head_dim, out_features=num_labels)\n",
        "        # )\n"
      ]
    },
    {
      "cell_type": "code",
      "execution_count": 102,
      "id": "5c7fd979",
      "metadata": {},
      "outputs": [
        {
          "name": "stderr",
          "output_type": "stream",
          "text": [
            "Some weights of the model checkpoint at cointegrated/rubert-tiny were not used when initializing BertTokenClassHead: ['cls.seq_relationship.bias', 'cls.seq_relationship.weight', 'cls.predictions.bias', 'cls.predictions.decoder.weight', 'cls.predictions.decoder.bias', 'cls.predictions.transform.dense.weight', 'cls.predictions.transform.LayerNorm.weight', 'cls.predictions.transform.dense.bias', 'cls.predictions.transform.LayerNorm.bias']\n",
            "- This IS expected if you are initializing BertTokenClassHead from the checkpoint of a model trained on another task or with another architecture (e.g. initializing a BertForSequenceClassification model from a BertForPreTraining model).\n",
            "- This IS NOT expected if you are initializing BertTokenClassHead from the checkpoint of a model that you expect to be exactly identical (initializing a BertForSequenceClassification model from a BertForSequenceClassification model).\n",
            "Some weights of BertTokenClassHead were not initialized from the model checkpoint at cointegrated/rubert-tiny and are newly initialized: ['classifier.bias', 'classifier.weight']\n",
            "You should probably TRAIN this model on a down-stream task to be able to use it for predictions and inference.\n"
          ]
        },
        {
          "data": {
            "text/plain": [
              "BertTokenClassHead(\n",
              "  (bert): BertModel(\n",
              "    (embeddings): BertEmbeddings(\n",
              "      (word_embeddings): Embedding(29564, 312, padding_idx=0)\n",
              "      (position_embeddings): Embedding(512, 312)\n",
              "      (token_type_embeddings): Embedding(2, 312)\n",
              "      (LayerNorm): LayerNorm((312,), eps=1e-12, elementwise_affine=True)\n",
              "      (dropout): Dropout(p=0.1, inplace=False)\n",
              "    )\n",
              "    (encoder): BertEncoder(\n",
              "      (layer): ModuleList(\n",
              "        (0-2): 3 x BertLayer(\n",
              "          (attention): BertAttention(\n",
              "            (self): BertSelfAttention(\n",
              "              (query): Linear(in_features=312, out_features=312, bias=True)\n",
              "              (key): Linear(in_features=312, out_features=312, bias=True)\n",
              "              (value): Linear(in_features=312, out_features=312, bias=True)\n",
              "              (dropout): Dropout(p=0.1, inplace=False)\n",
              "            )\n",
              "            (output): BertSelfOutput(\n",
              "              (dense): Linear(in_features=312, out_features=312, bias=True)\n",
              "              (LayerNorm): LayerNorm((312,), eps=1e-12, elementwise_affine=True)\n",
              "              (dropout): Dropout(p=0.1, inplace=False)\n",
              "            )\n",
              "          )\n",
              "          (intermediate): BertIntermediate(\n",
              "            (dense): Linear(in_features=312, out_features=600, bias=True)\n",
              "            (intermediate_act_fn): GELUActivation()\n",
              "          )\n",
              "          (output): BertOutput(\n",
              "            (dense): Linear(in_features=600, out_features=312, bias=True)\n",
              "            (LayerNorm): LayerNorm((312,), eps=1e-12, elementwise_affine=True)\n",
              "            (dropout): Dropout(p=0.1, inplace=False)\n",
              "          )\n",
              "        )\n",
              "      )\n",
              "    )\n",
              "  )\n",
              "  (dropout): Dropout(p=0.1, inplace=False)\n",
              "  (classifier): Linear(in_features=312, out_features=27, bias=True)\n",
              ")"
            ]
          },
          "execution_count": 102,
          "metadata": {},
          "output_type": "execute_result"
        }
      ],
      "source": [
        "custom_model = BertTokenClassHead.from_pretrained(model_checkpoint, num_labels=len(label_list))"
      ]
    },
    {
      "cell_type": "code",
      "execution_count": 89,
      "id": "3d9dadc7",
      "metadata": {},
      "outputs": [
        {
          "data": {
            "text/plain": [
              "tensor(3.2844, device='cuda:0', grad_fn=<NllLossBackward0>)"
            ]
          },
          "execution_count": 89,
          "metadata": {},
          "output_type": "execute_result"
        }
      ],
      "source": [
        "custom_model.to(device)\n",
        "inputs = next(iter(train_loader))\n",
        "input_ids = inputs[\"input_ids\"]\n",
        "attention_mask = inputs[\"attention_mask\"]\n",
        "labels = inputs[\"labels\"]\n",
        "\n",
        "input_ids = input_ids.to(device)\n",
        "attention_mask = attention_mask.to(device)\n",
        "labels = labels.to(device)\n",
        "\n",
        "outputs = custom_model(input_ids, attention_mask=attention_mask, labels=labels,\n",
        "               return_dict=True)\n",
        "initial_loss = outputs[0]\n",
        "initial_loss"
      ]
    },
    {
      "cell_type": "markdown",
      "id": "dyHrfytc45x8",
      "metadata": {
        "id": "dyHrfytc45x8"
      },
      "source": [
        "### метрика"
      ]
    },
    {
      "cell_type": "code",
      "execution_count": 25,
      "id": "IxCh_XsX5QtD",
      "metadata": {
        "id": "IxCh_XsX5QtD"
      },
      "outputs": [
        {
          "name": "stderr",
          "output_type": "stream",
          "text": [
            "C:\\Users\\hdyst\\AppData\\Local\\Temp\\ipykernel_40972\\1804829960.py:2: FutureWarning: load_metric is deprecated and will be removed in the next major version of datasets. Use 'evaluate.load' instead, from the new library 🤗 Evaluate: https://huggingface.co/docs/evaluate\n",
            "  metric = load_metric(\"seqeval\")\n"
          ]
        }
      ],
      "source": [
        "from sklearn.metrics import f1_score\n",
        "metric = load_metric(\"seqeval\")"
      ]
    },
    {
      "cell_type": "code",
      "execution_count": 26,
      "id": "61fa70b1",
      "metadata": {},
      "outputs": [
        {
          "data": {
            "text/plain": [
              "1.0"
            ]
          },
          "execution_count": 26,
          "metadata": {},
          "output_type": "execute_result"
        }
      ],
      "source": [
        "example = ner_train[1]\n",
        "metric.compute(predictions=[example['tags']], references=[example['tags']])\n",
        "metric.compute(predictions=[example['tags']], references=[example['tags']])['overall_f1']"
      ]
    },
    {
      "cell_type": "markdown",
      "id": "70496a06",
      "metadata": {},
      "source": [
        "### trainloop"
      ]
    },
    {
      "cell_type": "code",
      "execution_count": 29,
      "id": "PMtWpNmn47ET",
      "metadata": {
        "id": "PMtWpNmn47ET"
      },
      "outputs": [],
      "source": [
        "def train_epoch(train_loader, optimizer, model):\n",
        "    tr_loss, tr_accuracy_seq, tr_accuracy_skl = 0, 0, 0\n",
        "    nb_tr_examples, nb_tr_steps = 0, 0\n",
        "    tr_preds, tr_labels = [], []\n",
        "    # put model in training mode\n",
        "    model.train()\n",
        "    set_random_seed(superseed)\n",
        "    for idx, batch in tqdm(enumerate(train_loader), total=len(train_loader)):\n",
        "        \n",
        "        ids = batch['input_ids'].to(device, dtype = torch.long)\n",
        "        mask = batch['attention_mask'].to(device, dtype = torch.long)\n",
        "        labels = batch['labels'].to(device, dtype = torch.long)\n",
        "\n",
        "        loss, tr_logits = model(input_ids=ids, attention_mask=mask, labels=labels,\n",
        "                               return_dict=False)\n",
        "        tr_loss += loss.item()\n",
        "\n",
        "        nb_tr_steps += 1\n",
        "        nb_tr_examples += labels.size(0)\n",
        "\n",
        "        if idx % 200==0:\n",
        "            loss_step = tr_loss/nb_tr_steps\n",
        "            print(f\"Training loss per 200 training steps: {loss_step}\")\n",
        "\n",
        "        # compute training accuracy\n",
        "        flattened_targets = labels.view(-1) # shape (batch_size * seq_len,)\n",
        "        active_logits = tr_logits.view(-1, model.num_labels) # shape (batch_size * seq_len, num_labels)\n",
        "        flattened_predictions = torch.argmax(active_logits, axis=1) # shape (batch_size * seq_len,)\n",
        "\n",
        "        # only compute accuracy at active labels\n",
        "        active_accuracy = labels.view(-1) != -100 # shape (batch_size, seq_len)\n",
        "        #active_labels = torch.where(active_accuracy, labels.view(-1), torch.tensor(-100).type_as(labels))\n",
        "\n",
        "        labels = torch.masked_select(flattened_targets, active_accuracy)\n",
        "        predictions = torch.masked_select(flattened_predictions, active_accuracy)\n",
        "\n",
        "        tr_labels.extend(labels)\n",
        "        tr_preds.extend(predictions)\n",
        "\n",
        "        labels_str = [ids_to_labels[id.item()] for id in labels]\n",
        "        predictions_str = [ids_to_labels[id.item()] for id in predictions]\n",
        "        metric_dict = metric.compute(predictions=[predictions_str], references=[labels_str], zero_division=0)\n",
        "        tmp_tr_accuracy_seq = metric_dict['overall_f1']\n",
        "        tr_accuracy_seq += tmp_tr_accuracy_seq\n",
        "        \n",
        "        metrics = {\n",
        "            'train/loss': loss.item(),\n",
        "            'train/f1': tmp_tr_accuracy_seq\n",
        "        }\n",
        "        wandb.log(metrics)\n",
        "\n",
        "        # tmp_tr_accuracy_skl = f1_score(labels.cpu().numpy(), predictions.cpu().numpy(), average='macro')\n",
        "        # tr_accuracy_skl += tmp_tr_accuracy_skl\n",
        "\n",
        "        # gradient clipping\n",
        "        # torch.nn.utils.clip_grad_norm_(\n",
        "        #     parameters=model.parameters(), max_norm=10\n",
        "        # )\n",
        "\n",
        "        # backward pass\n",
        "        optimizer.zero_grad()\n",
        "        loss.backward()\n",
        "        optimizer.step()\n",
        "\n",
        "    epoch_loss = tr_loss / nb_tr_steps\n",
        "    tr_accuracy_seq = tr_accuracy_seq / nb_tr_steps\n",
        "    # tr_accuracy_skl = tr_accuracy_skl / nb_tr_steps\n",
        "\n",
        "    print(f\"Training loss epoch: {epoch_loss}\")\n",
        "    print(f\"Training seqeval F1 epoch: {tr_accuracy_seq}\")\n",
        "    # print(f\"Training sklearn F1 epoch: {tr_accuracy_skl}\")\n",
        "    return epoch_loss, tr_accuracy_seq"
      ]
    },
    {
      "cell_type": "code",
      "execution_count": 30,
      "id": "badec71c",
      "metadata": {},
      "outputs": [],
      "source": [
        "def valid_epoch(testing_loader, model):\n",
        "    # put model in evaluation mode\n",
        "    model.eval()\n",
        "    \n",
        "    eval_loss, eval_accuracy_seq, eval_accuracy_skl = 0, 0, 0\n",
        "    nb_eval_examples, nb_eval_steps = 0, 0\n",
        "    eval_preds, eval_labels = [], []\n",
        "    set_random_seed(superseed)\n",
        "    with torch.no_grad():\n",
        "        for idx, batch in tqdm(enumerate(testing_loader), total=len(testing_loader)):\n",
        "            \n",
        "            ids = batch['input_ids'].to(device, dtype = torch.long)\n",
        "            mask = batch['attention_mask'].to(device, dtype = torch.long)\n",
        "            labels = batch['labels'].to(device, dtype = torch.long)\n",
        "            \n",
        "            loss, eval_logits = model(input_ids=ids, attention_mask=mask, labels=labels,\n",
        "                                     return_dict=False)\n",
        "            \n",
        "            eval_loss += loss.item()\n",
        "\n",
        "            nb_eval_steps += 1\n",
        "            nb_eval_examples += labels.size(0)\n",
        "        \n",
        "            if idx % 100==0:\n",
        "                loss_step = eval_loss/nb_eval_steps\n",
        "                print(f\"Validation loss per 100 evaluation steps: {loss_step}\")\n",
        "              \n",
        "            # compute evaluation accuracy\n",
        "            flattened_targets = labels.view(-1) # shape (batch_size * seq_len,)\n",
        "            active_logits = eval_logits.view(-1, model.num_labels) # shape (batch_size * seq_len, num_labels)\n",
        "            flattened_predictions = torch.argmax(active_logits, axis=1) # shape (batch_size * seq_len,)\n",
        "            \n",
        "            # only compute accuracy at active labels\n",
        "            active_accuracy = labels.view(-1) != -100 # shape (batch_size, seq_len)\n",
        "        \n",
        "            labels = torch.masked_select(flattened_targets, active_accuracy)\n",
        "            predictions = torch.masked_select(flattened_predictions, active_accuracy)\n",
        "            \n",
        "            eval_labels.extend(labels)\n",
        "            eval_preds.extend(predictions)\n",
        "            \n",
        "            # tmp_eval_accuracy = f1_score(labels.cpu().numpy(), predictions.cpu().numpy(), average='micro')\n",
        "            labels_str = [ids_to_labels[id.item()] for id in labels]\n",
        "            predictions_str = [ids_to_labels[id.item()] for id in predictions]\n",
        "            metric_dict = metric.compute(predictions=[predictions_str], references=[labels_str], zero_division=0)\n",
        "            tmp_eval_accuracy_seq = metric_dict['overall_f1']\n",
        "            eval_accuracy_seq += tmp_eval_accuracy_seq\n",
        "\n",
        "            \n",
        "            # tmp_eval_accuracy_skl = f1_score(labels.cpu().numpy(), predictions.cpu().numpy(), average='macro')\n",
        "            # eval_accuracy_skl += tmp_eval_accuracy_skl\n",
        "\n",
        "\n",
        "    labels = [ids_to_labels[id.item()] for id in eval_labels]\n",
        "    predictions = [ids_to_labels[id.item()] for id in eval_preds]\n",
        "    \n",
        "    eval_loss = eval_loss / nb_eval_steps\n",
        "    eval_accuracy_seq = eval_accuracy_seq / nb_eval_steps\n",
        "    # eval_accuracy_skl = eval_accuracy_skl / nb_eval_steps\n",
        "\n",
        "    metrics = {\n",
        "        'val/loss': eval_loss,\n",
        "        'val/f1': eval_accuracy_seq\n",
        "    }\n",
        "    wandb.log(metrics)\n",
        "\n",
        "    print(f\"Validation Loss: {eval_loss}\")\n",
        "    print(f\"Validation seqeval F1: {eval_accuracy_seq}\")\n",
        "    # print(f\"Validation sklearn F1: {eval_accuracy_skl}\")\n",
        "\n",
        "    # return labels, predictions\n",
        "    return eval_loss, eval_accuracy_seq"
      ]
    },
    {
      "cell_type": "code",
      "execution_count": 31,
      "id": "f17a0c02",
      "metadata": {},
      "outputs": [],
      "source": [
        "def plot_losses(train_losses, test_losses, train_metrics, test_metrics):\n",
        "    # clear_output()\n",
        "    fig, axs = plt.subplots(1, 2, figsize=(13, 4))\n",
        "    axs[0].plot(range(1, len(train_losses) + 1), train_losses, label='train')\n",
        "    axs[0].plot(range(1, len(test_losses) + 1), test_losses, label='test')\n",
        "    axs[0].set_ylabel('loss')\n",
        "\n",
        "    axs[1].plot(range(1, len(train_metrics) + 1), train_metrics, label='train')\n",
        "    axs[1].plot(range(1, len(test_metrics) + 1), test_metrics, label='test')\n",
        "    axs[1].set_ylabel('metric')\n",
        "\n",
        "    for ax in axs:\n",
        "        ax.set_xlabel('epoch')\n",
        "        ax.legend()\n",
        "\n",
        "    plt.show()"
      ]
    },
    {
      "cell_type": "code",
      "execution_count": 32,
      "id": "4a3a4e19",
      "metadata": {},
      "outputs": [],
      "source": [
        "def train(\n",
        "    train_loader, test_loader, num_epoch,\n",
        "    optimizer, model, scheduler=None\n",
        "    ):\n",
        "\n",
        "    train_losses, test_losses = [], []\n",
        "    train_metrics, test_metrics = [], []\n",
        "\n",
        "    for i in range(1, num_epoch + 1):\n",
        "        print(f'Epoch {i}:')\n",
        "        set_random_seed(superseed)\n",
        "        train_loss, train_metric = train_epoch(train_loader, optimizer, model)\n",
        "        train_losses.append(train_loss)\n",
        "        train_metrics.append(train_metric)\n",
        "\n",
        "        test_loss, test_metric = valid_epoch(test_loader, model)\n",
        "        test_losses.append(test_loss)\n",
        "        test_metrics.append(test_metric)\n",
        "\n",
        "        if scheduler is not None:\n",
        "            scheduler.step()\n",
        "            wandb.log({'lr': scheduler.get_last_lr()})\n",
        "    plot_losses(train_losses, test_losses, train_metrics, test_metrics)\n",
        "    return test_metrics[-1]\n",
        "    # return (train_losses, test_losses, train_metrics, test_metrics)\n"
      ]
    },
    {
      "cell_type": "markdown",
      "id": "c1e38c62",
      "metadata": {},
      "source": [
        "### train"
      ]
    },
    {
      "cell_type": "code",
      "execution_count": 33,
      "id": "f8d5692d",
      "metadata": {},
      "outputs": [
        {
          "name": "stderr",
          "output_type": "stream",
          "text": [
            "Some weights of the model checkpoint at cointegrated/rubert-tiny were not used when initializing BertForTokenClassification: ['cls.predictions.transform.LayerNorm.weight', 'cls.predictions.decoder.weight', 'cls.predictions.transform.LayerNorm.bias', 'cls.predictions.transform.dense.bias', 'cls.predictions.decoder.bias', 'cls.seq_relationship.bias', 'cls.predictions.bias', 'cls.predictions.transform.dense.weight', 'cls.seq_relationship.weight']\n",
            "- This IS expected if you are initializing BertForTokenClassification from the checkpoint of a model trained on another task or with another architecture (e.g. initializing a BertForSequenceClassification model from a BertForPreTraining model).\n",
            "- This IS NOT expected if you are initializing BertForTokenClassification from the checkpoint of a model that you expect to be exactly identical (initializing a BertForSequenceClassification model from a BertForSequenceClassification model).\n",
            "Some weights of BertForTokenClassification were not initialized from the model checkpoint at cointegrated/rubert-tiny and are newly initialized: ['classifier.bias', 'classifier.weight']\n",
            "You should probably TRAIN this model on a down-stream task to be able to use it for predictions and inference.\n"
          ]
        }
      ],
      "source": [
        "model = AutoModelForTokenClassification.from_pretrained(model_checkpoint, num_labels=len(label_list))\n",
        "model.to(device)\n",
        "\n",
        "\n",
        "lr = 0.0001\n",
        "num_epoch = 10\n",
        "optimizer = torch.optim.Adam(params=model.parameters(), lr=lr)\n",
        "scheduler = torch.optim.lr_scheduler.ExponentialLR(optimizer=optimizer, gamma=0.9)"
      ]
    },
    {
      "cell_type": "code",
      "execution_count": 34,
      "id": "e23f5c52",
      "metadata": {},
      "outputs": [
        {
          "data": {
            "text/html": [
              "Tracking run with wandb version 0.15.12"
            ],
            "text/plain": [
              "<IPython.core.display.HTML object>"
            ]
          },
          "metadata": {},
          "output_type": "display_data"
        },
        {
          "data": {
            "text/html": [
              "Run data is saved locally in <code>e:\\proga\\digitalhack-perm-1218\\wandb\\run-20231028_233745-0fawjsnc</code>"
            ],
            "text/plain": [
              "<IPython.core.display.HTML object>"
            ]
          },
          "metadata": {},
          "output_type": "display_data"
        },
        {
          "data": {
            "text/html": [
              "Syncing run <strong><a href='https://wandb.ai/danessely/dh-perm/runs/0fawjsnc' target=\"_blank\">amber-wave-4</a></strong> to <a href='https://wandb.ai/danessely/dh-perm' target=\"_blank\">Weights & Biases</a> (<a href='https://wandb.me/run' target=\"_blank\">docs</a>)<br/>"
            ],
            "text/plain": [
              "<IPython.core.display.HTML object>"
            ]
          },
          "metadata": {},
          "output_type": "display_data"
        },
        {
          "data": {
            "text/html": [
              " View project at <a href='https://wandb.ai/danessely/dh-perm' target=\"_blank\">https://wandb.ai/danessely/dh-perm</a>"
            ],
            "text/plain": [
              "<IPython.core.display.HTML object>"
            ]
          },
          "metadata": {},
          "output_type": "display_data"
        },
        {
          "data": {
            "text/html": [
              " View run at <a href='https://wandb.ai/danessely/dh-perm/runs/0fawjsnc' target=\"_blank\">https://wandb.ai/danessely/dh-perm/runs/0fawjsnc</a>"
            ],
            "text/plain": [
              "<IPython.core.display.HTML object>"
            ]
          },
          "metadata": {},
          "output_type": "display_data"
        },
        {
          "name": "stdout",
          "output_type": "stream",
          "text": [
            "Epoch 1:\n"
          ]
        },
        {
          "data": {
            "application/vnd.jupyter.widget-view+json": {
              "model_id": "ec155bd9989c400094cdfc50d5b61dd1",
              "version_major": 2,
              "version_minor": 0
            },
            "text/plain": [
              "0it [00:00, ?it/s]"
            ]
          },
          "metadata": {},
          "output_type": "display_data"
        },
        {
          "name": "stdout",
          "output_type": "stream",
          "text": [
            "Training loss per 200 training steps: 3.5208935737609863\n",
            "Training loss per 200 training steps: 0.7627789848182925\n",
            "Training loss per 200 training steps: 0.6599704498736341\n",
            "Training loss per 200 training steps: 0.6006262226405239\n",
            "Training loss per 200 training steps: 0.5795157675941786\n",
            "Training loss per 200 training steps: 0.5535571421389575\n",
            "Training loss per 200 training steps: 0.5401108090228384\n",
            "Training loss epoch: 0.5337778072064953\n",
            "Training seqeval F1 epoch: 0.15254751436801298\n"
          ]
        },
        {
          "data": {
            "application/vnd.jupyter.widget-view+json": {
              "model_id": "d379201873ff474fac2874966fae0444",
              "version_major": 2,
              "version_minor": 0
            },
            "text/plain": [
              "0it [00:00, ?it/s]"
            ]
          },
          "metadata": {},
          "output_type": "display_data"
        },
        {
          "name": "stdout",
          "output_type": "stream",
          "text": [
            "Validation loss per 100 evaluation steps: 0.2563433349132538\n",
            "Validation loss per 100 evaluation steps: 0.44733508595145577\n",
            "Validation Loss: 0.42935955107952495\n",
            "Validation seqeval F1: 0.3147797760609236\n",
            "Epoch 2:\n"
          ]
        },
        {
          "data": {
            "application/vnd.jupyter.widget-view+json": {
              "model_id": "6cd82cd8d1054365b7c1cce72237bcc5",
              "version_major": 2,
              "version_minor": 0
            },
            "text/plain": [
              "0it [00:00, ?it/s]"
            ]
          },
          "metadata": {},
          "output_type": "display_data"
        },
        {
          "name": "stdout",
          "output_type": "stream",
          "text": [
            "Training loss per 200 training steps: 1.3039171695709229\n",
            "Training loss per 200 training steps: 0.4166925603996462\n",
            "Training loss per 200 training steps: 0.4016206601537077\n",
            "Training loss per 200 training steps: 0.38164328101917033\n",
            "Training loss per 200 training steps: 0.38253819004873213\n",
            "Training loss per 200 training steps: 0.37366433583058556\n",
            "Training loss per 200 training steps: 0.37142804384752676\n",
            "Training loss epoch: 0.36907597801100883\n",
            "Training seqeval F1 epoch: 0.34222463572963596\n"
          ]
        },
        {
          "data": {
            "application/vnd.jupyter.widget-view+json": {
              "model_id": "0cbe2b3d09ea48f495c15e7f8c8999d9",
              "version_major": 2,
              "version_minor": 0
            },
            "text/plain": [
              "0it [00:00, ?it/s]"
            ]
          },
          "metadata": {},
          "output_type": "display_data"
        },
        {
          "name": "stdout",
          "output_type": "stream",
          "text": [
            "Validation loss per 100 evaluation steps: 0.24649126827716827\n",
            "Validation loss per 100 evaluation steps: 0.421150746174378\n",
            "Validation Loss: 0.4027612487906995\n",
            "Validation seqeval F1: 0.36987492187156473\n",
            "Epoch 3:\n"
          ]
        },
        {
          "data": {
            "application/vnd.jupyter.widget-view+json": {
              "model_id": "703f0011479e4ad1933c2e67060fc38c",
              "version_major": 2,
              "version_minor": 0
            },
            "text/plain": [
              "0it [00:00, ?it/s]"
            ]
          },
          "metadata": {},
          "output_type": "display_data"
        },
        {
          "name": "stdout",
          "output_type": "stream",
          "text": [
            "Training loss per 200 training steps: 1.1517274379730225\n",
            "Training loss per 200 training steps: 0.31756692287044147\n",
            "Training loss per 200 training steps: 0.3037290720366629\n",
            "Training loss per 200 training steps: 0.2867719690236395\n",
            "Training loss per 200 training steps: 0.28641566186306183\n",
            "Training loss per 200 training steps: 0.2793011789867928\n",
            "Training loss per 200 training steps: 0.27786923106216965\n",
            "Training loss epoch: 0.27554562654244763\n",
            "Training seqeval F1 epoch: 0.4561504370500947\n"
          ]
        },
        {
          "data": {
            "application/vnd.jupyter.widget-view+json": {
              "model_id": "ebd9d110a15d4dee9cd1902bd9bc036a",
              "version_major": 2,
              "version_minor": 0
            },
            "text/plain": [
              "0it [00:00, ?it/s]"
            ]
          },
          "metadata": {},
          "output_type": "display_data"
        },
        {
          "name": "stdout",
          "output_type": "stream",
          "text": [
            "Validation loss per 100 evaluation steps: 0.2782089114189148\n",
            "Validation loss per 100 evaluation steps: 0.46504536979269273\n",
            "Validation Loss: 0.4449916298715224\n",
            "Validation seqeval F1: 0.36645317830965446\n",
            "Epoch 4:\n"
          ]
        },
        {
          "data": {
            "application/vnd.jupyter.widget-view+json": {
              "model_id": "9a86211cb7b44cd88a5bc2bb86e19887",
              "version_major": 2,
              "version_minor": 0
            },
            "text/plain": [
              "0it [00:00, ?it/s]"
            ]
          },
          "metadata": {},
          "output_type": "display_data"
        },
        {
          "name": "stdout",
          "output_type": "stream",
          "text": [
            "Training loss per 200 training steps: 0.961128294467926\n",
            "Training loss per 200 training steps: 0.23164511968692145\n",
            "Training loss per 200 training steps: 0.21968169342215518\n",
            "Training loss per 200 training steps: 0.20905674050272305\n",
            "Training loss per 200 training steps: 0.20870313182073214\n",
            "Training loss per 200 training steps: 0.2034590251159507\n",
            "Training loss per 200 training steps: 0.20216741351306836\n",
            "Training loss epoch: 0.20059583769959002\n",
            "Training seqeval F1 epoch: 0.5529792941904925\n"
          ]
        },
        {
          "data": {
            "application/vnd.jupyter.widget-view+json": {
              "model_id": "c35e194cd1d0464fb36d8732443e7dc8",
              "version_major": 2,
              "version_minor": 0
            },
            "text/plain": [
              "0it [00:00, ?it/s]"
            ]
          },
          "metadata": {},
          "output_type": "display_data"
        },
        {
          "name": "stdout",
          "output_type": "stream",
          "text": [
            "Validation loss per 100 evaluation steps: 0.3200785517692566\n",
            "Validation loss per 100 evaluation steps: 0.5237427738928558\n",
            "Validation Loss: 0.5066217825464581\n",
            "Validation seqeval F1: 0.36298030055125546\n",
            "Epoch 5:\n"
          ]
        },
        {
          "data": {
            "application/vnd.jupyter.widget-view+json": {
              "model_id": "6d488d1a56524a979d87e454efc51da6",
              "version_major": 2,
              "version_minor": 0
            },
            "text/plain": [
              "0it [00:00, ?it/s]"
            ]
          },
          "metadata": {},
          "output_type": "display_data"
        },
        {
          "name": "stdout",
          "output_type": "stream",
          "text": [
            "Training loss per 200 training steps: 0.7134564518928528\n",
            "Training loss per 200 training steps: 0.18320922192130515\n",
            "Training loss per 200 training steps: 0.17029285343814446\n",
            "Training loss per 200 training steps: 0.1652985208244768\n",
            "Training loss per 200 training steps: 0.1649656370049633\n",
            "Training loss per 200 training steps: 0.16082669103743283\n",
            "Training loss per 200 training steps: 0.15899645177093796\n",
            "Training loss epoch: 0.15771996706274813\n",
            "Training seqeval F1 epoch: 0.6240571016613983\n"
          ]
        },
        {
          "data": {
            "application/vnd.jupyter.widget-view+json": {
              "model_id": "5e1311031fbe4f63b1c8736b58eda2f7",
              "version_major": 2,
              "version_minor": 0
            },
            "text/plain": [
              "0it [00:00, ?it/s]"
            ]
          },
          "metadata": {},
          "output_type": "display_data"
        },
        {
          "name": "stdout",
          "output_type": "stream",
          "text": [
            "Validation loss per 100 evaluation steps: 0.37650033831596375\n",
            "Validation loss per 100 evaluation steps: 0.575678012158611\n",
            "Validation Loss: 0.5549553270850863\n",
            "Validation seqeval F1: 0.36231920418031727\n",
            "Epoch 6:\n"
          ]
        },
        {
          "data": {
            "application/vnd.jupyter.widget-view+json": {
              "model_id": "2c24e94d767b4c29986d305356e48a27",
              "version_major": 2,
              "version_minor": 0
            },
            "text/plain": [
              "0it [00:00, ?it/s]"
            ]
          },
          "metadata": {},
          "output_type": "display_data"
        },
        {
          "name": "stdout",
          "output_type": "stream",
          "text": [
            "Training loss per 200 training steps: 0.5250911712646484\n",
            "Training loss per 200 training steps: 0.13834041731422814\n",
            "Training loss per 200 training steps: 0.13022977453273282\n",
            "Training loss per 200 training steps: 0.12499508460652015\n",
            "Training loss per 200 training steps: 0.12473490130802739\n",
            "Training loss per 200 training steps: 0.12098773999733257\n",
            "Training loss per 200 training steps: 0.12024434145383357\n",
            "Training loss epoch: 0.11958542753061721\n",
            "Training seqeval F1 epoch: 0.6911755081567316\n"
          ]
        },
        {
          "data": {
            "application/vnd.jupyter.widget-view+json": {
              "model_id": "ce19409e387240148978e908fbf13c5c",
              "version_major": 2,
              "version_minor": 0
            },
            "text/plain": [
              "0it [00:00, ?it/s]"
            ]
          },
          "metadata": {},
          "output_type": "display_data"
        },
        {
          "name": "stdout",
          "output_type": "stream",
          "text": [
            "Validation loss per 100 evaluation steps: 0.39679378271102905\n",
            "Validation loss per 100 evaluation steps: 0.605706128448543\n",
            "Validation Loss: 0.5833167622548453\n",
            "Validation seqeval F1: 0.3739171790484688\n",
            "Epoch 7:\n"
          ]
        },
        {
          "data": {
            "application/vnd.jupyter.widget-view+json": {
              "model_id": "ff20fc7e0c42406589eeb9c170d21b1d",
              "version_major": 2,
              "version_minor": 0
            },
            "text/plain": [
              "0it [00:00, ?it/s]"
            ]
          },
          "metadata": {},
          "output_type": "display_data"
        },
        {
          "name": "stdout",
          "output_type": "stream",
          "text": [
            "Training loss per 200 training steps: 0.38046085834503174\n",
            "Training loss per 200 training steps: 0.1121748860239686\n",
            "Training loss per 200 training steps: 0.09964965416020957\n",
            "Training loss per 200 training steps: 0.09260792802583842\n",
            "Training loss per 200 training steps: 0.09306254000728544\n",
            "Training loss per 200 training steps: 0.09095300549941768\n",
            "Training loss per 200 training steps: 0.09009261867054719\n",
            "Training loss epoch: 0.08959476586489246\n",
            "Training seqeval F1 epoch: 0.7531557503972297\n"
          ]
        },
        {
          "data": {
            "application/vnd.jupyter.widget-view+json": {
              "model_id": "568de95b60c7483d891e1705a52e4b46",
              "version_major": 2,
              "version_minor": 0
            },
            "text/plain": [
              "0it [00:00, ?it/s]"
            ]
          },
          "metadata": {},
          "output_type": "display_data"
        },
        {
          "name": "stdout",
          "output_type": "stream",
          "text": [
            "Validation loss per 100 evaluation steps: 0.4006583094596863\n",
            "Validation loss per 100 evaluation steps: 0.6362751931837289\n",
            "Validation Loss: 0.6109346601163378\n",
            "Validation seqeval F1: 0.37673952117612014\n",
            "Epoch 8:\n"
          ]
        },
        {
          "data": {
            "application/vnd.jupyter.widget-view+json": {
              "model_id": "830c723c5b414afc94037f07f0ac376b",
              "version_major": 2,
              "version_minor": 0
            },
            "text/plain": [
              "0it [00:00, ?it/s]"
            ]
          },
          "metadata": {},
          "output_type": "display_data"
        },
        {
          "name": "stdout",
          "output_type": "stream",
          "text": [
            "Training loss per 200 training steps: 0.23495171964168549\n",
            "Training loss per 200 training steps: 0.08094824396018217\n",
            "Training loss per 200 training steps: 0.0723035404286777\n",
            "Training loss per 200 training steps: 0.0682391579779711\n",
            "Training loss per 200 training steps: 0.06942877115085302\n",
            "Training loss per 200 training steps: 0.06827696665612558\n",
            "Training loss per 200 training steps: 0.06875146575117767\n",
            "Training loss epoch: 0.06831008594225846\n",
            "Training seqeval F1 epoch: 0.8030499366813815\n"
          ]
        },
        {
          "data": {
            "application/vnd.jupyter.widget-view+json": {
              "model_id": "bf6a14478a274671b15ebb4583b22502",
              "version_major": 2,
              "version_minor": 0
            },
            "text/plain": [
              "0it [00:00, ?it/s]"
            ]
          },
          "metadata": {},
          "output_type": "display_data"
        },
        {
          "name": "stdout",
          "output_type": "stream",
          "text": [
            "Validation loss per 100 evaluation steps: 0.4184955060482025\n",
            "Validation loss per 100 evaluation steps: 0.6909505214431498\n",
            "Validation Loss: 0.6676239452747085\n",
            "Validation seqeval F1: 0.3780181948900491\n",
            "Epoch 9:\n"
          ]
        },
        {
          "data": {
            "application/vnd.jupyter.widget-view+json": {
              "model_id": "6a36637bb0df48eebe999764ccf5f990",
              "version_major": 2,
              "version_minor": 0
            },
            "text/plain": [
              "0it [00:00, ?it/s]"
            ]
          },
          "metadata": {},
          "output_type": "display_data"
        },
        {
          "name": "stdout",
          "output_type": "stream",
          "text": [
            "Training loss per 200 training steps: 0.13428263366222382\n",
            "Training loss per 200 training steps: 0.06042677749629452\n",
            "Training loss per 200 training steps: 0.05685072895917493\n",
            "Training loss per 200 training steps: 0.053750220674187714\n",
            "Training loss per 200 training steps: 0.05617782545564336\n",
            "Training loss per 200 training steps: 0.05532094032632059\n",
            "Training loss per 200 training steps: 0.05538825989451932\n",
            "Training loss epoch: 0.055788532701041914\n",
            "Training seqeval F1 epoch: 0.8332836414754201\n"
          ]
        },
        {
          "data": {
            "application/vnd.jupyter.widget-view+json": {
              "model_id": "9f127f94bdf04a4581281859c1b543b8",
              "version_major": 2,
              "version_minor": 0
            },
            "text/plain": [
              "0it [00:00, ?it/s]"
            ]
          },
          "metadata": {},
          "output_type": "display_data"
        },
        {
          "name": "stdout",
          "output_type": "stream",
          "text": [
            "Validation loss per 100 evaluation steps: 0.4784061312675476\n",
            "Validation loss per 100 evaluation steps: 0.7114893560952479\n",
            "Validation Loss: 0.6820816932627873\n",
            "Validation seqeval F1: 0.3611827321557024\n",
            "Epoch 10:\n"
          ]
        },
        {
          "data": {
            "application/vnd.jupyter.widget-view+json": {
              "model_id": "3d1950e3dc514ba083959750e790355e",
              "version_major": 2,
              "version_minor": 0
            },
            "text/plain": [
              "0it [00:00, ?it/s]"
            ]
          },
          "metadata": {},
          "output_type": "display_data"
        },
        {
          "name": "stdout",
          "output_type": "stream",
          "text": [
            "Training loss per 200 training steps: 0.1459890604019165\n",
            "Training loss per 200 training steps: 0.05074546429842933\n",
            "Training loss per 200 training steps: 0.046643534386089244\n",
            "Training loss per 200 training steps: 0.0443757149557848\n",
            "Training loss per 200 training steps: 0.04586010670667856\n",
            "Training loss per 200 training steps: 0.044774269263797836\n",
            "Training loss per 200 training steps: 0.044003876705082455\n",
            "Training loss epoch: 0.043931820830475206\n",
            "Training seqeval F1 epoch: 0.8635667297752245\n"
          ]
        },
        {
          "data": {
            "application/vnd.jupyter.widget-view+json": {
              "model_id": "2418a7f1c9074dd98a498e002f01227b",
              "version_major": 2,
              "version_minor": 0
            },
            "text/plain": [
              "0it [00:00, ?it/s]"
            ]
          },
          "metadata": {},
          "output_type": "display_data"
        },
        {
          "name": "stdout",
          "output_type": "stream",
          "text": [
            "Validation loss per 100 evaluation steps: 0.4170237183570862\n",
            "Validation loss per 100 evaluation steps: 0.746746301651001\n",
            "Validation Loss: 0.7189348103096767\n",
            "Validation seqeval F1: 0.37851566838570494\n"
          ]
        },
        {
          "data": {
            "image/png": "[encoded data removed]",
            "text/plain": [
              "<Figure size 1300x400 with 2 Axes>"
            ]
          },
          "metadata": {},
          "output_type": "display_data"
        },
        {
          "name": "stdout",
          "output_type": "stream",
          "text": [
            "F1 on test: 0.37851566838570494\n"
          ]
        },
        {
          "data": {
            "text/html": [
              "Waiting for W&B process to finish... <strong style=\"color:green\">(success).</strong>"
            ],
            "text/plain": [
              "<IPython.core.display.HTML object>"
            ]
          },
          "metadata": {},
          "output_type": "display_data"
        },
        {
          "data": {
            "application/vnd.jupyter.widget-view+json": {
              "model_id": "ba012e67c6a24f429e3b5e6f95d7865a",
              "version_major": 2,
              "version_minor": 0
            },
            "text/plain": [
              "VBox(children=(Label(value='0.001 MB of 0.001 MB uploaded (0.000 MB deduped)\\r'), FloatProgress(value=1.0, max…"
            ]
          },
          "metadata": {},
          "output_type": "display_data"
        },
        {
          "data": {
            "text/html": [
              "<style>\n",
              "    table.wandb td:nth-child(1) { padding: 0 10px; text-align: left ; width: auto;} td:nth-child(2) {text-align: left ; width: 100%}\n",
              "    .wandb-row { display: flex; flex-direction: row; flex-wrap: wrap; justify-content: flex-start; width: 100% }\n",
              "    .wandb-col { display: flex; flex-direction: column; flex-basis: 100%; flex: 1; padding: 10px; }\n",
              "    </style>\n",
              "<div class=\"wandb-row\"><div class=\"wandb-col\"><h3>Run history:</h3><br/><table class=\"wandb\"><tr><td>train/f1</td><td>▁▁▂▃▂▃▃▃▂▂▅▂▅▅▆▆▇▅▅▆▄▆▅▇▆▆▆▇▇▇▇▆▇▇▇▇█▅██</td></tr><tr><td>train/loss</td><td>█▄▄▆▃▃▃▃▃▂▂▅▂▂▂▂▁▂▂▂▂▂▁▁▂▁▂▁▁▁▁▁▁▁▁▁▁▁▁▁</td></tr><tr><td>val/f1</td><td>▁▇▇▆▆▇██▆█</td></tr><tr><td>val/loss</td><td>▂▁▂▃▄▅▆▇▇█</td></tr></table><br/></div><div class=\"wandb-col\"><h3>Run summary:</h3><br/><table class=\"wandb\"><tr><td>train/f1</td><td>1.0</td></tr><tr><td>train/loss</td><td>0.00189</td></tr><tr><td>val/f1</td><td>0.37852</td></tr><tr><td>val/loss</td><td>0.71893</td></tr></table><br/></div></div>"
            ],
            "text/plain": [
              "<IPython.core.display.HTML object>"
            ]
          },
          "metadata": {},
          "output_type": "display_data"
        },
        {
          "data": {
            "text/html": [
              " View run <strong style=\"color:#cdcd00\">amber-wave-4</strong> at: <a href='https://wandb.ai/danessely/dh-perm/runs/0fawjsnc' target=\"_blank\">https://wandb.ai/danessely/dh-perm/runs/0fawjsnc</a><br/>Synced 5 W&B file(s), 0 media file(s), 0 artifact file(s) and 0 other file(s)"
            ],
            "text/plain": [
              "<IPython.core.display.HTML object>"
            ]
          },
          "metadata": {},
          "output_type": "display_data"
        },
        {
          "data": {
            "text/html": [
              "Find logs at: <code>.\\wandb\\run-20231028_233745-0fawjsnc\\logs</code>"
            ],
            "text/plain": [
              "<IPython.core.display.HTML object>"
            ]
          },
          "metadata": {},
          "output_type": "display_data"
        }
      ],
      "source": [
        "wandb.init(\n",
        "    # set the wandb project where this run will be logged\n",
        "    project=\"dh-perm\",\n",
        "    \n",
        "    # track hyperparameters and run metadata\n",
        "    config={\n",
        "    \"learning_rate\": lr,\n",
        "    \"optimizer\": optimizer,\n",
        "    \"scheduler\": scheduler,\n",
        "    \"model\": \"rubert-tiny-default\",\n",
        "    \"epochs\": num_epoch,\n",
        "    }\n",
        ")\n",
        "\n",
        "\n",
        "final_metric = train(train_loader, test_loader, num_epoch, optimizer, model)\n",
        "# train_losses, test_losses, train_metrics, test_metrics = train(test_loader, test_loader, 1, optimizer, model)\n",
        "print(f'F1 on test: {final_metric}')\n",
        "\n",
        "wandb.finish()"
      ]
    },
    {
      "cell_type": "code",
      "execution_count": 35,
      "id": "f1e9828b",
      "metadata": {},
      "outputs": [
        {
          "name": "stderr",
          "output_type": "stream",
          "text": [
            "Some weights of the model checkpoint at cointegrated/rubert-tiny were not used when initializing BertForTokenClassification: ['cls.predictions.decoder.weight', 'cls.predictions.transform.dense.weight', 'cls.predictions.transform.LayerNorm.weight', 'cls.predictions.decoder.bias', 'cls.seq_relationship.weight', 'cls.predictions.transform.dense.bias', 'cls.predictions.transform.LayerNorm.bias', 'cls.seq_relationship.bias', 'cls.predictions.bias']\n",
            "- This IS expected if you are initializing BertForTokenClassification from the checkpoint of a model trained on another task or with another architecture (e.g. initializing a BertForSequenceClassification model from a BertForPreTraining model).\n",
            "- This IS NOT expected if you are initializing BertForTokenClassification from the checkpoint of a model that you expect to be exactly identical (initializing a BertForSequenceClassification model from a BertForSequenceClassification model).\n",
            "Some weights of BertForTokenClassification were not initialized from the model checkpoint at cointegrated/rubert-tiny and are newly initialized: ['classifier.bias', 'classifier.weight']\n",
            "You should probably TRAIN this model on a down-stream task to be able to use it for predictions and inference.\n"
          ]
        }
      ],
      "source": [
        "custom_classifier = CustomHead(model_checkpoint, hidden_dim=512, num_labels=len(label_list))\n",
        "custom_model = AutoModelForTokenClassification.from_pretrained(model_checkpoint, num_labels=len(label_list))\n",
        "custom_model.classifier = custom_classifier\n",
        "custom_model.to(device)\n",
        "# for param in custom_model.bert.named_parameters():\n",
        "#     param[1].requires_grad=False\n",
        "\n",
        "lr=0.0001\n",
        "num_epoch = 10\n",
        "optimizer = torch.optim.Adam(params=custom_model.parameters(), lr=lr)\n",
        "scheduler = torch.optim.lr_scheduler.ExponentialLR(optimizer=optimizer, gamma=0.9)"
      ]
    },
    {
      "cell_type": "code",
      "execution_count": 36,
      "id": "92762e0c",
      "metadata": {},
      "outputs": [
        {
          "data": {
            "application/vnd.jupyter.widget-view+json": {
              "model_id": "202c4b614b0740dba85151e3d538fb6d",
              "version_major": 2,
              "version_minor": 0
            },
            "text/plain": [
              "VBox(children=(Label(value='Waiting for wandb.init()...\\r'), FloatProgress(value=0.011288888888278356, max=1.0…"
            ]
          },
          "metadata": {},
          "output_type": "display_data"
        },
        {
          "data": {
            "text/html": [
              "Tracking run with wandb version 0.15.12"
            ],
            "text/plain": [
              "<IPython.core.display.HTML object>"
            ]
          },
          "metadata": {},
          "output_type": "display_data"
        },
        {
          "data": {
            "text/html": [
              "Run data is saved locally in <code>e:\\proga\\digitalhack-perm-1218\\wandb\\run-20231029_013208-1ak74bfp</code>"
            ],
            "text/plain": [
              "<IPython.core.display.HTML object>"
            ]
          },
          "metadata": {},
          "output_type": "display_data"
        },
        {
          "data": {
            "text/html": [
              "Syncing run <strong><a href='https://wandb.ai/danessely/dh-perm/runs/1ak74bfp' target=\"_blank\">silvery-smoke-5</a></strong> to <a href='https://wandb.ai/danessely/dh-perm' target=\"_blank\">Weights & Biases</a> (<a href='https://wandb.me/run' target=\"_blank\">docs</a>)<br/>"
            ],
            "text/plain": [
              "<IPython.core.display.HTML object>"
            ]
          },
          "metadata": {},
          "output_type": "display_data"
        },
        {
          "data": {
            "text/html": [
              " View project at <a href='https://wandb.ai/danessely/dh-perm' target=\"_blank\">https://wandb.ai/danessely/dh-perm</a>"
            ],
            "text/plain": [
              "<IPython.core.display.HTML object>"
            ]
          },
          "metadata": {},
          "output_type": "display_data"
        },
        {
          "data": {
            "text/html": [
              " View run at <a href='https://wandb.ai/danessely/dh-perm/runs/1ak74bfp' target=\"_blank\">https://wandb.ai/danessely/dh-perm/runs/1ak74bfp</a>"
            ],
            "text/plain": [
              "<IPython.core.display.HTML object>"
            ]
          },
          "metadata": {},
          "output_type": "display_data"
        },
        {
          "name": "stdout",
          "output_type": "stream",
          "text": [
            "Epoch 1:\n"
          ]
        },
        {
          "data": {
            "application/vnd.jupyter.widget-view+json": {
              "model_id": "79dc8ca2199c4275a0da7a3da046e06e",
              "version_major": 2,
              "version_minor": 0
            },
            "text/plain": [
              "  0%|          | 0/1285 [00:00<?, ?it/s]"
            ]
          },
          "metadata": {},
          "output_type": "display_data"
        },
        {
          "name": "stdout",
          "output_type": "stream",
          "text": [
            "Training loss per 200 training steps: 3.2286489009857178\n",
            "Training loss per 200 training steps: 0.8075719300045896\n",
            "Training loss per 200 training steps: 0.6874662189932536\n",
            "Training loss per 200 training steps: 0.6226691290884963\n",
            "Training loss per 200 training steps: 0.5971360979752892\n",
            "Training loss per 200 training steps: 0.5675279361220983\n",
            "Training loss per 200 training steps: 0.5531270839925313\n",
            "Training loss epoch: 0.5461072723399341\n",
            "Training seqeval F1 epoch: 0.13698901013291068\n"
          ]
        },
        {
          "data": {
            "application/vnd.jupyter.widget-view+json": {
              "model_id": "975855396b8c40398e086be6825d271f",
              "version_major": 2,
              "version_minor": 0
            },
            "text/plain": [
              "  0%|          | 0/161 [00:00<?, ?it/s]"
            ]
          },
          "metadata": {},
          "output_type": "display_data"
        },
        {
          "name": "stdout",
          "output_type": "stream",
          "text": [
            "Validation loss per 100 evaluation steps: 0.25614601373672485\n",
            "Validation loss per 100 evaluation steps: 0.4436956624878515\n",
            "Validation Loss: 0.42667136373727216\n",
            "Validation seqeval F1: 0.34361694381279095\n",
            "Epoch 2:\n"
          ]
        },
        {
          "data": {
            "application/vnd.jupyter.widget-view+json": {
              "model_id": "190c2a87aabc469ea182c47fa8a64848",
              "version_major": 2,
              "version_minor": 0
            },
            "text/plain": [
              "  0%|          | 0/1285 [00:00<?, ?it/s]"
            ]
          },
          "metadata": {},
          "output_type": "display_data"
        },
        {
          "name": "stdout",
          "output_type": "stream",
          "text": [
            "Training loss per 200 training steps: 1.3270701169967651\n",
            "Training loss per 200 training steps: 0.4157934370844518\n",
            "Training loss per 200 training steps: 0.40096953890270126\n",
            "Training loss per 200 training steps: 0.3813799470043222\n",
            "Training loss per 200 training steps: 0.3818192563197586\n",
            "Training loss per 200 training steps: 0.37195118269571414\n",
            "Training loss per 200 training steps: 0.3706541507939911\n",
            "Training loss epoch: 0.367794454950071\n",
            "Training seqeval F1 epoch: 0.34481771892973156\n"
          ]
        },
        {
          "data": {
            "application/vnd.jupyter.widget-view+json": {
              "model_id": "43e42fc7f03148718b75db3d664c5474",
              "version_major": 2,
              "version_minor": 0
            },
            "text/plain": [
              "  0%|          | 0/161 [00:00<?, ?it/s]"
            ]
          },
          "metadata": {},
          "output_type": "display_data"
        },
        {
          "name": "stdout",
          "output_type": "stream",
          "text": [
            "Validation loss per 100 evaluation steps: 0.25054892897605896\n",
            "Validation loss per 100 evaluation steps: 0.4269517775219266\n",
            "Validation Loss: 0.40901270268126305\n",
            "Validation seqeval F1: 0.3816664986866088\n",
            "Epoch 3:\n"
          ]
        },
        {
          "data": {
            "application/vnd.jupyter.widget-view+json": {
              "model_id": "d1680a12784c4c8dbf517d5c7ab68f5c",
              "version_major": 2,
              "version_minor": 0
            },
            "text/plain": [
              "  0%|          | 0/1285 [00:00<?, ?it/s]"
            ]
          },
          "metadata": {},
          "output_type": "display_data"
        },
        {
          "name": "stdout",
          "output_type": "stream",
          "text": [
            "Training loss per 200 training steps: 1.2319186925888062\n",
            "Training loss per 200 training steps: 0.31638066007278454\n",
            "Training loss per 200 training steps: 0.3027102140955943\n",
            "Training loss per 200 training steps: 0.28614044167758423\n",
            "Training loss per 200 training steps: 0.28649081538585985\n",
            "Training loss per 200 training steps: 0.27873109894377607\n",
            "Training loss per 200 training steps: 0.27799268326195553\n",
            "Training loss epoch: 0.27536043743331146\n",
            "Training seqeval F1 epoch: 0.4573404978905354\n"
          ]
        },
        {
          "data": {
            "application/vnd.jupyter.widget-view+json": {
              "model_id": "555b259ad98f4e378d8bec6fa046db32",
              "version_major": 2,
              "version_minor": 0
            },
            "text/plain": [
              "  0%|          | 0/161 [00:00<?, ?it/s]"
            ]
          },
          "metadata": {},
          "output_type": "display_data"
        },
        {
          "name": "stdout",
          "output_type": "stream",
          "text": [
            "Validation loss per 100 evaluation steps: 0.26075220108032227\n",
            "Validation loss per 100 evaluation steps: 0.475955528640511\n",
            "Validation Loss: 0.4544803947210312\n",
            "Validation seqeval F1: 0.379382673367553\n",
            "Epoch 4:\n"
          ]
        },
        {
          "data": {
            "application/vnd.jupyter.widget-view+json": {
              "model_id": "9809da5e8dfb4b819eb99299609609ef",
              "version_major": 2,
              "version_minor": 0
            },
            "text/plain": [
              "  0%|          | 0/1285 [00:00<?, ?it/s]"
            ]
          },
          "metadata": {},
          "output_type": "display_data"
        },
        {
          "name": "stdout",
          "output_type": "stream",
          "text": [
            "Training loss per 200 training steps: 1.0003997087478638\n",
            "Training loss per 200 training steps: 0.23610838988230595\n",
            "Training loss per 200 training steps: 0.2233851544205982\n",
            "Training loss per 200 training steps: 0.21147151828469235\n",
            "Training loss per 200 training steps: 0.21103065358835288\n",
            "Training loss per 200 training steps: 0.2055411313387838\n",
            "Training loss per 200 training steps: 0.20442501875067084\n",
            "Training loss epoch: 0.2027258606634831\n",
            "Training seqeval F1 epoch: 0.5499110464750107\n"
          ]
        },
        {
          "data": {
            "application/vnd.jupyter.widget-view+json": {
              "model_id": "9751202fdf5d4ad08004cb51f57b4bd7",
              "version_major": 2,
              "version_minor": 0
            },
            "text/plain": [
              "  0%|          | 0/161 [00:00<?, ?it/s]"
            ]
          },
          "metadata": {},
          "output_type": "display_data"
        },
        {
          "name": "stdout",
          "output_type": "stream",
          "text": [
            "Validation loss per 100 evaluation steps: 0.2959446609020233\n",
            "Validation loss per 100 evaluation steps: 0.5304731459605811\n",
            "Validation Loss: 0.5065071965966906\n",
            "Validation seqeval F1: 0.3735789896932528\n",
            "Epoch 5:\n"
          ]
        },
        {
          "data": {
            "application/vnd.jupyter.widget-view+json": {
              "model_id": "83928240e6e9429f83ff13dd1b102db4",
              "version_major": 2,
              "version_minor": 0
            },
            "text/plain": [
              "  0%|          | 0/1285 [00:00<?, ?it/s]"
            ]
          },
          "metadata": {},
          "output_type": "display_data"
        },
        {
          "name": "stdout",
          "output_type": "stream",
          "text": [
            "Training loss per 200 training steps: 0.7554757595062256\n",
            "Training loss per 200 training steps: 0.17822132305015081\n",
            "Training loss per 200 training steps: 0.173889933990087\n",
            "Training loss per 200 training steps: 0.1682494453490772\n",
            "Training loss per 200 training steps: 0.1684118825267912\n",
            "Training loss per 200 training steps: 0.1643149914716805\n",
            "Training loss per 200 training steps: 0.1641431023908793\n",
            "Training loss epoch: 0.16239076632759913\n",
            "Training seqeval F1 epoch: 0.6095545533881956\n"
          ]
        },
        {
          "data": {
            "application/vnd.jupyter.widget-view+json": {
              "model_id": "ba32ea1976cc4c8aa9fd08a5868bf063",
              "version_major": 2,
              "version_minor": 0
            },
            "text/plain": [
              "  0%|          | 0/161 [00:00<?, ?it/s]"
            ]
          },
          "metadata": {},
          "output_type": "display_data"
        },
        {
          "name": "stdout",
          "output_type": "stream",
          "text": [
            "Validation loss per 100 evaluation steps: 0.35897156596183777\n",
            "Validation loss per 100 evaluation steps: 0.5699398290402818\n",
            "Validation Loss: 0.5480924947476535\n",
            "Validation seqeval F1: 0.3615880238526456\n",
            "Epoch 6:\n"
          ]
        },
        {
          "data": {
            "application/vnd.jupyter.widget-view+json": {
              "model_id": "e6fe212bbb3747a991ece6299a08ad65",
              "version_major": 2,
              "version_minor": 0
            },
            "text/plain": [
              "  0%|          | 0/1285 [00:00<?, ?it/s]"
            ]
          },
          "metadata": {},
          "output_type": "display_data"
        },
        {
          "name": "stdout",
          "output_type": "stream",
          "text": [
            "Training loss per 200 training steps: 0.518547534942627\n",
            "Training loss per 200 training steps: 0.1364168523908106\n",
            "Training loss per 200 training steps: 0.12936130831914575\n",
            "Training loss per 200 training steps: 0.12474316978259957\n",
            "Training loss per 200 training steps: 0.12496549229703835\n",
            "Training loss per 200 training steps: 0.12271169631543767\n",
            "Training loss per 200 training steps: 0.1235828770012079\n",
            "Training loss epoch: 0.12260675986880865\n",
            "Training seqeval F1 epoch: 0.6808743195648179\n"
          ]
        },
        {
          "data": {
            "application/vnd.jupyter.widget-view+json": {
              "model_id": "70c64a04149543e69876e669c085b37d",
              "version_major": 2,
              "version_minor": 0
            },
            "text/plain": [
              "  0%|          | 0/161 [00:00<?, ?it/s]"
            ]
          },
          "metadata": {},
          "output_type": "display_data"
        },
        {
          "name": "stdout",
          "output_type": "stream",
          "text": [
            "Validation loss per 100 evaluation steps: 0.3822229504585266\n",
            "Validation loss per 100 evaluation steps: 0.6253247845290911\n",
            "Validation Loss: 0.6028177808530583\n",
            "Validation seqeval F1: 0.3677788464284851\n",
            "Epoch 7:\n"
          ]
        },
        {
          "data": {
            "application/vnd.jupyter.widget-view+json": {
              "model_id": "cef7282037854aaa8d44554837008264",
              "version_major": 2,
              "version_minor": 0
            },
            "text/plain": [
              "  0%|          | 0/1285 [00:00<?, ?it/s]"
            ]
          },
          "metadata": {},
          "output_type": "display_data"
        },
        {
          "name": "stdout",
          "output_type": "stream",
          "text": [
            "Training loss per 200 training steps: 0.287569522857666\n",
            "Training loss per 200 training steps: 0.10327628190948893\n",
            "Training loss per 200 training steps: 0.09541424449784054\n",
            "Training loss per 200 training steps: 0.0934091794913551\n",
            "Training loss per 200 training steps: 0.09483024678524402\n",
            "Training loss per 200 training steps: 0.09335774873252158\n",
            "Training loss per 200 training steps: 0.0945331507325979\n",
            "Training loss epoch: 0.09427282874642759\n",
            "Training seqeval F1 epoch: 0.7406951895956374\n"
          ]
        },
        {
          "data": {
            "application/vnd.jupyter.widget-view+json": {
              "model_id": "53cafafa6a9d4f82be67eb28ca54110a",
              "version_major": 2,
              "version_minor": 0
            },
            "text/plain": [
              "  0%|          | 0/161 [00:00<?, ?it/s]"
            ]
          },
          "metadata": {},
          "output_type": "display_data"
        },
        {
          "name": "stdout",
          "output_type": "stream",
          "text": [
            "Validation loss per 100 evaluation steps: 0.3376665711402893\n",
            "Validation loss per 100 evaluation steps: 0.6342538720605397\n",
            "Validation Loss: 0.6105153702245736\n",
            "Validation seqeval F1: 0.369768280277516\n",
            "Epoch 8:\n"
          ]
        },
        {
          "data": {
            "application/vnd.jupyter.widget-view+json": {
              "model_id": "acfd923069524d27b7f2d48909aa1e5d",
              "version_major": 2,
              "version_minor": 0
            },
            "text/plain": [
              "  0%|          | 0/1285 [00:00<?, ?it/s]"
            ]
          },
          "metadata": {},
          "output_type": "display_data"
        },
        {
          "name": "stdout",
          "output_type": "stream",
          "text": [
            "Training loss per 200 training steps: 0.23677895963191986\n",
            "Training loss per 200 training steps: 0.0759109600808527\n",
            "Training loss per 200 training steps: 0.07145356269265314\n",
            "Training loss per 200 training steps: 0.07060942202093647\n",
            "Training loss per 200 training steps: 0.07312162900802804\n",
            "Training loss per 200 training steps: 0.07180133010270065\n",
            "Training loss per 200 training steps: 0.07195302833481959\n",
            "Training loss epoch: 0.07123022525614772\n",
            "Training seqeval F1 epoch: 0.7931280890103825\n"
          ]
        },
        {
          "data": {
            "application/vnd.jupyter.widget-view+json": {
              "model_id": "131a2c1df2964e84b3467d7c8e672a23",
              "version_major": 2,
              "version_minor": 0
            },
            "text/plain": [
              "  0%|          | 0/161 [00:00<?, ?it/s]"
            ]
          },
          "metadata": {},
          "output_type": "display_data"
        },
        {
          "name": "stdout",
          "output_type": "stream",
          "text": [
            "Validation loss per 100 evaluation steps: 0.40253981947898865\n",
            "Validation loss per 100 evaluation steps: 0.7188271549668642\n",
            "Validation Loss: 0.6955185850954945\n",
            "Validation seqeval F1: 0.3724941992809469\n",
            "Epoch 9:\n"
          ]
        },
        {
          "data": {
            "application/vnd.jupyter.widget-view+json": {
              "model_id": "ab01b5954bf24016940b10586774b2ef",
              "version_major": 2,
              "version_minor": 0
            },
            "text/plain": [
              "  0%|          | 0/1285 [00:00<?, ?it/s]"
            ]
          },
          "metadata": {},
          "output_type": "display_data"
        },
        {
          "name": "stdout",
          "output_type": "stream",
          "text": [
            "Training loss per 200 training steps: 0.13191135227680206\n",
            "Training loss per 200 training steps: 0.061239293042051404\n",
            "Training loss per 200 training steps: 0.05622652264606867\n",
            "Training loss per 200 training steps: 0.05459954732054296\n",
            "Training loss per 200 training steps: 0.055649072104790594\n",
            "Training loss per 200 training steps: 0.05436088834641749\n",
            "Training loss per 200 training steps: 0.05532816469573961\n",
            "Training loss epoch: 0.05487254810164382\n",
            "Training seqeval F1 epoch: 0.8268310465739298\n"
          ]
        },
        {
          "data": {
            "application/vnd.jupyter.widget-view+json": {
              "model_id": "a0faedd442ec46b9b27d9993ef011efa",
              "version_major": 2,
              "version_minor": 0
            },
            "text/plain": [
              "  0%|          | 0/161 [00:00<?, ?it/s]"
            ]
          },
          "metadata": {},
          "output_type": "display_data"
        },
        {
          "name": "stdout",
          "output_type": "stream",
          "text": [
            "Validation loss per 100 evaluation steps: 0.41258692741394043\n",
            "Validation loss per 100 evaluation steps: 0.7676273377815096\n",
            "Validation Loss: 0.7365993174336711\n",
            "Validation seqeval F1: 0.3806370581032258\n",
            "Epoch 10:\n"
          ]
        },
        {
          "data": {
            "application/vnd.jupyter.widget-view+json": {
              "model_id": "57d270492f7f4d66a268c816ec92af46",
              "version_major": 2,
              "version_minor": 0
            },
            "text/plain": [
              "  0%|          | 0/1285 [00:00<?, ?it/s]"
            ]
          },
          "metadata": {},
          "output_type": "display_data"
        },
        {
          "name": "stdout",
          "output_type": "stream",
          "text": [
            "Training loss per 200 training steps: 0.11517013609409332\n",
            "Training loss per 200 training steps: 0.05326244047268373\n",
            "Training loss per 200 training steps: 0.049024777194285336\n",
            "Training loss per 200 training steps: 0.046749260344545664\n",
            "Training loss per 200 training steps: 0.04772788831471732\n",
            "Training loss per 200 training steps: 0.04604973444344381\n",
            "Training loss per 200 training steps: 0.04655697699643976\n",
            "Training loss epoch: 0.04645743867860752\n",
            "Training seqeval F1 epoch: 0.8516338073368498\n"
          ]
        },
        {
          "data": {
            "application/vnd.jupyter.widget-view+json": {
              "model_id": "45dad99b3bbd433e8aaba92e418f0c11",
              "version_major": 2,
              "version_minor": 0
            },
            "text/plain": [
              "  0%|          | 0/161 [00:00<?, ?it/s]"
            ]
          },
          "metadata": {},
          "output_type": "display_data"
        },
        {
          "name": "stdout",
          "output_type": "stream",
          "text": [
            "Validation loss per 100 evaluation steps: 0.4383346140384674\n",
            "Validation loss per 100 evaluation steps: 0.8411581690358644\n",
            "Validation Loss: 0.8051508850192431\n",
            "Validation seqeval F1: 0.3759987274366754\n"
          ]
        },
        {
          "data": {
            "image/png": "[encoded data removed]",
            "text/plain": [
              "<Figure size 1300x400 with 2 Axes>"
            ]
          },
          "metadata": {},
          "output_type": "display_data"
        },
        {
          "name": "stdout",
          "output_type": "stream",
          "text": [
            "F1 on test: 0.3759987274366754\n"
          ]
        },
        {
          "data": {
            "text/html": [
              "Waiting for W&B process to finish... <strong style=\"color:green\">(success).</strong>"
            ],
            "text/plain": [
              "<IPython.core.display.HTML object>"
            ]
          },
          "metadata": {},
          "output_type": "display_data"
        },
        {
          "data": {
            "application/vnd.jupyter.widget-view+json": {
              "model_id": "03eb7b4004754a2c8558badf3fec909d",
              "version_major": 2,
              "version_minor": 0
            },
            "text/plain": [
              "VBox(children=(Label(value='0.001 MB of 0.016 MB uploaded (0.000 MB deduped)\\r'), FloatProgress(value=0.081650…"
            ]
          },
          "metadata": {},
          "output_type": "display_data"
        },
        {
          "data": {
            "text/html": [
              "<style>\n",
              "    table.wandb td:nth-child(1) { padding: 0 10px; text-align: left ; width: auto;} td:nth-child(2) {text-align: left ; width: 100%}\n",
              "    .wandb-row { display: flex; flex-direction: row; flex-wrap: wrap; justify-content: flex-start; width: 100% }\n",
              "    .wandb-col { display: flex; flex-direction: column; flex-basis: 100%; flex: 1; padding: 10px; }\n",
              "    </style>\n",
              "<div class=\"wandb-row\"><div class=\"wandb-col\"><h3>Run history:</h3><br/><table class=\"wandb\"><tr><td>train/f1</td><td>▁▁▃▃▃▄▃▃▂▂▆▃▇▄▆▆▇▅▆▆▄▇▆▅▆▆▅▇▇█▇▇█▆▇▆█▆██</td></tr><tr><td>train/loss</td><td>█▄▃▅▃▃▃▃▂▂▂▅▁▂▂▂▁▂▁▂▂▂▁▂▂▁▂▁▁▁▁▁▁▂▁▁▁▁▁▁</td></tr><tr><td>val/f1</td><td>▁██▇▄▅▆▆█▇</td></tr><tr><td>val/loss</td><td>▁▁▂▃▃▄▅▆▇█</td></tr></table><br/></div><div class=\"wandb-col\"><h3>Run summary:</h3><br/><table class=\"wandb\"><tr><td>train/f1</td><td>0.96774</td></tr><tr><td>train/loss</td><td>0.02573</td></tr><tr><td>val/f1</td><td>0.376</td></tr><tr><td>val/loss</td><td>0.80515</td></tr></table><br/></div></div>"
            ],
            "text/plain": [
              "<IPython.core.display.HTML object>"
            ]
          },
          "metadata": {},
          "output_type": "display_data"
        },
        {
          "data": {
            "text/html": [
              " View run <strong style=\"color:#cdcd00\">silvery-smoke-5</strong> at: <a href='https://wandb.ai/danessely/dh-perm/runs/1ak74bfp' target=\"_blank\">https://wandb.ai/danessely/dh-perm/runs/1ak74bfp</a><br/>Synced 5 W&B file(s), 0 media file(s), 0 artifact file(s) and 0 other file(s)"
            ],
            "text/plain": [
              "<IPython.core.display.HTML object>"
            ]
          },
          "metadata": {},
          "output_type": "display_data"
        },
        {
          "data": {
            "text/html": [
              "Find logs at: <code>.\\wandb\\run-20231029_013208-1ak74bfp\\logs</code>"
            ],
            "text/plain": [
              "<IPython.core.display.HTML object>"
            ]
          },
          "metadata": {},
          "output_type": "display_data"
        }
      ],
      "source": [
        "wandb.init(\n",
        "    # set the wandb project where this run will be logged\n",
        "    project=\"dh-perm\",\n",
        "    \n",
        "    # track hyperparameters and run metadata\n",
        "    config={\n",
        "    \"learning_rate\": lr,\n",
        "    \"optimizer\": optimizer,\n",
        "    \"scheduler\": scheduler,\n",
        "    \"model\": \"rubert-tiny-custom\",\n",
        "    \"epochs\": num_epoch,\n",
        "    \"base-freezed\": False,\n",
        "    }\n",
        ")\n",
        "\n",
        "final_metric = train(train_loader, test_loader, num_epoch, optimizer, custom_model)\n",
        "print(f'F1 on test: {final_metric}')\n",
        "\n",
        "wandb.finish()"
      ]
    },
    {
      "cell_type": "markdown",
      "id": "7_uol61B7JHU",
      "metadata": {
        "id": "7_uol61B7JHU"
      },
      "source": [
        "## че-то старое"
      ]
    },
    {
      "cell_type": "markdown",
      "id": "9fa21220-e351-4259-83c5-c60cdb73dfe2",
      "metadata": {
        "id": "9fa21220-e351-4259-83c5-c60cdb73dfe2"
      },
      "source": [
        "#### У Bert свой собсвенный токенайзер, который разбивает слова на мелкие токены, поэтому нам нужно корректно сопоставить токены и соответсвующие им неры."
      ]
    },
    {
      "cell_type": "code",
      "execution_count": null,
      "id": "33edf3c3-70e7-49c4-a9b6-842a0eb4f014",
      "metadata": {
        "id": "33edf3c3-70e7-49c4-a9b6-842a0eb4f014",
        "scrolled": true
      },
      "outputs": [],
      "source": [
        "# Посчитаем метрики на отложенном датасете\n",
        "\n",
        "predictions, labels, _ = trainer.predict(tokenized_datasets[\"test\"])\n",
        "predictions = np.argmax(predictions, axis=2)\n",
        "\n",
        "# Remove ignored index (special tokens)\n",
        "true_predictions = [\n",
        "    [label_list[p] for (p, l) in zip(prediction, label) if l != -100]\n",
        "    for prediction, label in zip(predictions, labels)\n",
        "]\n",
        "true_labels = [\n",
        "    [label_list[l] for (p, l) in zip(prediction, label) if l != -100]\n",
        "    for prediction, label in zip(predictions, labels)\n",
        "]\n",
        "\n",
        "results = metric.compute(predictions=true_predictions, references=true_labels)\n",
        "results"
      ]
    },
    {
      "cell_type": "code",
      "execution_count": null,
      "id": "de83f349-9ba5-42fe-8f5f-780c6f26d918",
      "metadata": {
        "id": "de83f349-9ba5-42fe-8f5f-780c6f26d918"
      },
      "outputs": [],
      "source": [
        "from sklearn.metrics import confusion_matrix\n",
        "import pandas as pd"
      ]
    },
    {
      "cell_type": "code",
      "execution_count": null,
      "id": "eead2c66-11d0-4cb8-ab58-530d2524b941",
      "metadata": {
        "id": "eead2c66-11d0-4cb8-ab58-530d2524b941",
        "scrolled": true
      },
      "outputs": [],
      "source": [
        "cm = pd.DataFrame(\n",
        "    confusion_matrix(sum(true_labels, []), sum(true_predictions, []), labels=label_list),\n",
        "    index=label_list,\n",
        "    columns=label_list\n",
        ")\n",
        "cm"
      ]
    },
    {
      "cell_type": "code",
      "execution_count": null,
      "id": "b7cd985f-b4f6-4e6f-b28a-a54bf2e59c4a",
      "metadata": {
        "id": "b7cd985f-b4f6-4e6f-b28a-a54bf2e59c4a"
      },
      "outputs": [],
      "source": [
        "model.save_pretrained('ner_bert.bin')\n",
        "tokenizer.save_pretrained('ner_bert.bin')"
      ]
    },
    {
      "cell_type": "markdown",
      "id": "fea14342-bbf6-40c0-aa44-3c2db9c8215b",
      "metadata": {
        "id": "fea14342-bbf6-40c0-aa44-3c2db9c8215b"
      },
      "source": [
        "### Посмотрим на результаты"
      ]
    },
    {
      "cell_type": "code",
      "execution_count": null,
      "id": "2519aaaf-02b8-4f66-885c-8930073508a6",
      "metadata": {
        "id": "2519aaaf-02b8-4f66-885c-8930073508a6"
      },
      "outputs": [],
      "source": [
        "# text = ' '.join(ner_train[25]['tokens'])\n",
        "text = ner_train[25]['tokens']"
      ]
    },
    {
      "cell_type": "code",
      "execution_count": null,
      "id": "daee5bc1-634c-4bde-aa51-64425aba5931",
      "metadata": {
        "id": "daee5bc1-634c-4bde-aa51-64425aba5931"
      },
      "outputs": [],
      "source": [
        "import torch\n",
        "from transformers import pipeline\n",
        "\n",
        "pipe = pipeline(model=model, tokenizer=tokenizer, task='ner', aggregation_strategy='average', device='cpu')\n",
        "\n",
        "def predict_ner(text, tokenizer, model, pipe, verbose=True):\n",
        "    tokens = tokenizer(text, truncation=True, is_split_into_words=True, return_tensors='pt')\n",
        "    tokens = {k: v.to(model.device) for k, v in tokens.items()}\n",
        "\n",
        "    with torch.no_grad():\n",
        "        pred = model(**tokens)\n",
        "    # print(pred.logits.shape)\n",
        "    indices = pred.logits.argmax(dim=-1)[0].cpu().numpy()\n",
        "    token_text = tokenizer.convert_ids_to_tokens(tokens['input_ids'][0])\n",
        "    labels = []\n",
        "    for t, idx in zip(token_text, indices):\n",
        "        if '##' not in t:\n",
        "            labels.append(label_list[idx])\n",
        "        if verbose:\n",
        "            print(f'{t:15s} {label_list[idx]:10s}')\n",
        "    return text, pipe(text), labels"
      ]
    },
    {
      "cell_type": "code",
      "execution_count": null,
      "id": "d93a3a44-a23d-4615-8885-63da60761d78",
      "metadata": {
        "id": "d93a3a44-a23d-4615-8885-63da60761d78"
      },
      "outputs": [],
      "source": [
        "predict_ner(text, tokenizer, model, pipe)"
      ]
    },
    {
      "cell_type": "code",
      "execution_count": null,
      "id": "7f3f580a-4542-42ea-98f4-de4a89fed35d",
      "metadata": {
        "id": "7f3f580a-4542-42ea-98f4-de4a89fed35d"
      },
      "outputs": [],
      "source": []
    },
    {
      "cell_type": "markdown",
      "id": "b333764e-e82d-4c8f-9f89-8390f92da7cb",
      "metadata": {
        "id": "b333764e-e82d-4c8f-9f89-8390f92da7cb"
      },
      "source": [
        "### Тестового датасета у вас пока нет, по которому будет считаться метрика на лидерборде, но прогоним для примера через нашу отложенную выборку, чтобы понять формат выходных данных.\n",
        "ВАЖНО: в тестовом датасете у вас будет тест в том же формате, что он был в трейне 'video_info', в финальном сабмишене эту колонку и индексы менять нельзя, нужно будет только заполнить колонку 'entities_prediction'"
      ]
    },
    {
      "cell_type": "code",
      "execution_count": null,
      "id": "6d5ccfdd-46aa-49a0-af51-c7adea1d0237",
      "metadata": {
        "id": "6d5ccfdd-46aa-49a0-af51-c7adea1d0237"
      },
      "outputs": [],
      "source": [
        "from tqdm.notebook import tqdm\n",
        "\n",
        "submission = pd.DataFrame(columns=[['video_info', 'entities_prediction']])\n",
        "submission['entities_prediction'] = submission['entities_prediction'].astype('object')\n",
        "def sample_submission(text, tokenizer, model, pipe, submission):\n",
        "    for i, elem in tqdm(enumerate(ner_test)):\n",
        "        _, _, labels = predict_ner(elem['tokens'], tokenizer, model, pipe, verbose=False)\n",
        "        submission.loc[i, 'video_info'] = elem\n",
        "\n",
        "        submission.loc[i, 'entities_prediction'] = [[label] for label in labels]\n",
        "    return submission"
      ]
    },
    {
      "cell_type": "code",
      "execution_count": null,
      "id": "958310b4-09fa-41bd-b888-b4364be3f397",
      "metadata": {
        "id": "958310b4-09fa-41bd-b888-b4364be3f397",
        "scrolled": true
      },
      "outputs": [],
      "source": [
        "result = sample_submission(text, tokenizer, model, pipe, submission)"
      ]
    },
    {
      "cell_type": "code",
      "execution_count": null,
      "id": "4c0588b1-6e42-4f37-bfe6-2f695cb6971e",
      "metadata": {
        "id": "4c0588b1-6e42-4f37-bfe6-2f695cb6971e"
      },
      "outputs": [],
      "source": [
        "result"
      ]
    }
  ],
  "metadata": {
    "accelerator": "GPU",
    "colab": {
      "gpuType": "T4",
      "provenance": []
    },
    "kernelspec": {
      "display_name": "Python 3",
      "name": "python3"
    },
    "language_info": {
      "codemirror_mode": {
        "name": "ipython",
        "version": 3
      },
      "file_extension": ".py",
      "mimetype": "text/x-python",
      "name": "python",
      "nbconvert_exporter": "python",
      "pygments_lexer": "ipython3",
      "version": "3.10.9"
    },
    "widgets": {
      "application/vnd.jupyter.widget-state+json": {
        "0ca0d064895b4ccdad82fcac48862f3c": {
          "model_module": "@jupyter-widgets/base",
          "model_module_version": "1.2.0",
          "model_name": "LayoutModel",
          "state": {
            "_model_module": "@jupyter-widgets/base",
            "_model_module_version": "1.2.0",
            "_model_name": "LayoutModel",
            "_view_count": null,
            "_view_module": "@jupyter-widgets/base",
            "_view_module_version": "1.2.0",
            "_view_name": "LayoutView",
            "align_content": null,
            "align_items": null,
            "align_self": null,
            "border": null,
            "bottom": null,
            "display": null,
            "flex": null,
            "flex_flow": null,
            "grid_area": null,
            "grid_auto_columns": null,
            "grid_auto_flow": null,
            "grid_auto_rows": null,
            "grid_column": null,
            "grid_gap": null,
            "grid_row": null,
            "grid_template_areas": null,
            "grid_template_columns": null,
            "grid_template_rows": null,
            "height": null,
            "justify_content": null,
            "justify_items": null,
            "left": null,
            "margin": null,
            "max_height": null,
            "max_width": null,
            "min_height": null,
            "min_width": null,
            "object_fit": null,
            "object_position": null,
            "order": null,
            "overflow": null,
            "overflow_x": null,
            "overflow_y": null,
            "padding": null,
            "right": null,
            "top": null,
            "visibility": null,
            "width": null
          }
        },
        "0d93d0b9625c4edead553e1bfac210d2": {
          "model_module": "@jupyter-widgets/base",
          "model_module_version": "1.2.0",
          "model_name": "LayoutModel",
          "state": {
            "_model_module": "@jupyter-widgets/base",
            "_model_module_version": "1.2.0",
            "_model_name": "LayoutModel",
            "_view_count": null,
            "_view_module": "@jupyter-widgets/base",
            "_view_module_version": "1.2.0",
            "_view_name": "LayoutView",
            "align_content": null,
            "align_items": null,
            "align_self": null,
            "border": null,
            "bottom": null,
            "display": null,
            "flex": null,
            "flex_flow": null,
            "grid_area": null,
            "grid_auto_columns": null,
            "grid_auto_flow": null,
            "grid_auto_rows": null,
            "grid_column": null,
            "grid_gap": null,
            "grid_row": null,
            "grid_template_areas": null,
            "grid_template_columns": null,
            "grid_template_rows": null,
            "height": null,
            "justify_content": null,
            "justify_items": null,
            "left": null,
            "margin": null,
            "max_height": null,
            "max_width": null,
            "min_height": null,
            "min_width": null,
            "object_fit": null,
            "object_position": null,
            "order": null,
            "overflow": null,
            "overflow_x": null,
            "overflow_y": null,
            "padding": null,
            "right": null,
            "top": null,
            "visibility": null,
            "width": null
          }
        },
        "0f20f980caca4c6ba468c305304ef6dc": {
          "model_module": "@jupyter-widgets/controls",
          "model_module_version": "1.5.0",
          "model_name": "DescriptionStyleModel",
          "state": {
            "_model_module": "@jupyter-widgets/controls",
            "_model_module_version": "1.5.0",
            "_model_name": "DescriptionStyleModel",
            "_view_count": null,
            "_view_module": "@jupyter-widgets/base",
            "_view_module_version": "1.2.0",
            "_view_name": "StyleView",
            "description_width": ""
          }
        },
        "11a1b8984e5b4b539b0be6005933321d": {
          "model_module": "@jupyter-widgets/controls",
          "model_module_version": "1.5.0",
          "model_name": "DescriptionStyleModel",
          "state": {
            "_model_module": "@jupyter-widgets/controls",
            "_model_module_version": "1.5.0",
            "_model_name": "DescriptionStyleModel",
            "_view_count": null,
            "_view_module": "@jupyter-widgets/base",
            "_view_module_version": "1.2.0",
            "_view_name": "StyleView",
            "description_width": ""
          }
        },
        "1a8c8bf19bf0426fa654ab445c44d718": {
          "model_module": "@jupyter-widgets/controls",
          "model_module_version": "1.5.0",
          "model_name": "HTMLModel",
          "state": {
            "_dom_classes": [],
            "_model_module": "@jupyter-widgets/controls",
            "_model_module_version": "1.5.0",
            "_model_name": "HTMLModel",
            "_view_count": null,
            "_view_module": "@jupyter-widgets/controls",
            "_view_module_version": "1.5.0",
            "_view_name": "HTMLView",
            "description": "",
            "description_tooltip": null,
            "layout": "IPY_MODEL_3210de7f879443988961823716830983",
            "placeholder": "​",
            "style": "IPY_MODEL_11a1b8984e5b4b539b0be6005933321d",
            "value": "Downloading (…)lve/main/config.json: 100%"
          }
        },
        "1dbd8176ad7643dc8263ff88ed2c47e0": {
          "model_module": "@jupyter-widgets/controls",
          "model_module_version": "1.5.0",
          "model_name": "DescriptionStyleModel",
          "state": {
            "_model_module": "@jupyter-widgets/controls",
            "_model_module_version": "1.5.0",
            "_model_name": "DescriptionStyleModel",
            "_view_count": null,
            "_view_module": "@jupyter-widgets/base",
            "_view_module_version": "1.2.0",
            "_view_name": "StyleView",
            "description_width": ""
          }
        },
        "223ca3cf97984189a55e2690e880a15e": {
          "model_module": "@jupyter-widgets/controls",
          "model_module_version": "1.5.0",
          "model_name": "ProgressStyleModel",
          "state": {
            "_model_module": "@jupyter-widgets/controls",
            "_model_module_version": "1.5.0",
            "_model_name": "ProgressStyleModel",
            "_view_count": null,
            "_view_module": "@jupyter-widgets/base",
            "_view_module_version": "1.2.0",
            "_view_name": "StyleView",
            "bar_color": null,
            "description_width": ""
          }
        },
        "228707cac90c4895906d02738f18af3a": {
          "model_module": "@jupyter-widgets/controls",
          "model_module_version": "1.5.0",
          "model_name": "HTMLModel",
          "state": {
            "_dom_classes": [],
            "_model_module": "@jupyter-widgets/controls",
            "_model_module_version": "1.5.0",
            "_model_name": "HTMLModel",
            "_view_count": null,
            "_view_module": "@jupyter-widgets/controls",
            "_view_module_version": "1.5.0",
            "_view_name": "HTMLView",
            "description": "",
            "description_tooltip": null,
            "layout": "IPY_MODEL_2a3091bf7ce44bdf8db418bf22f61eaf",
            "placeholder": "​",
            "style": "IPY_MODEL_28ca364b2051470c917f0656876ccc9a",
            "value": "Downloading (…)/main/tokenizer.json: 100%"
          }
        },
        "28ca364b2051470c917f0656876ccc9a": {
          "model_module": "@jupyter-widgets/controls",
          "model_module_version": "1.5.0",
          "model_name": "DescriptionStyleModel",
          "state": {
            "_model_module": "@jupyter-widgets/controls",
            "_model_module_version": "1.5.0",
            "_model_name": "DescriptionStyleModel",
            "_view_count": null,
            "_view_module": "@jupyter-widgets/base",
            "_view_module_version": "1.2.0",
            "_view_name": "StyleView",
            "description_width": ""
          }
        },
        "2954e6d021e748d69fb630d4ef4683b8": {
          "model_module": "@jupyter-widgets/controls",
          "model_module_version": "1.5.0",
          "model_name": "DescriptionStyleModel",
          "state": {
            "_model_module": "@jupyter-widgets/controls",
            "_model_module_version": "1.5.0",
            "_model_name": "DescriptionStyleModel",
            "_view_count": null,
            "_view_module": "@jupyter-widgets/base",
            "_view_module_version": "1.2.0",
            "_view_name": "StyleView",
            "description_width": ""
          }
        },
        "2a3091bf7ce44bdf8db418bf22f61eaf": {
          "model_module": "@jupyter-widgets/base",
          "model_module_version": "1.2.0",
          "model_name": "LayoutModel",
          "state": {
            "_model_module": "@jupyter-widgets/base",
            "_model_module_version": "1.2.0",
            "_model_name": "LayoutModel",
            "_view_count": null,
            "_view_module": "@jupyter-widgets/base",
            "_view_module_version": "1.2.0",
            "_view_name": "LayoutView",
            "align_content": null,
            "align_items": null,
            "align_self": null,
            "border": null,
            "bottom": null,
            "display": null,
            "flex": null,
            "flex_flow": null,
            "grid_area": null,
            "grid_auto_columns": null,
            "grid_auto_flow": null,
            "grid_auto_rows": null,
            "grid_column": null,
            "grid_gap": null,
            "grid_row": null,
            "grid_template_areas": null,
            "grid_template_columns": null,
            "grid_template_rows": null,
            "height": null,
            "justify_content": null,
            "justify_items": null,
            "left": null,
            "margin": null,
            "max_height": null,
            "max_width": null,
            "min_height": null,
            "min_width": null,
            "object_fit": null,
            "object_position": null,
            "order": null,
            "overflow": null,
            "overflow_x": null,
            "overflow_y": null,
            "padding": null,
            "right": null,
            "top": null,
            "visibility": null,
            "width": null
          }
        },
        "2c9a3867a4164f6f974ac45ba3e7b66e": {
          "model_module": "@jupyter-widgets/base",
          "model_module_version": "1.2.0",
          "model_name": "LayoutModel",
          "state": {
            "_model_module": "@jupyter-widgets/base",
            "_model_module_version": "1.2.0",
            "_model_name": "LayoutModel",
            "_view_count": null,
            "_view_module": "@jupyter-widgets/base",
            "_view_module_version": "1.2.0",
            "_view_name": "LayoutView",
            "align_content": null,
            "align_items": null,
            "align_self": null,
            "border": null,
            "bottom": null,
            "display": null,
            "flex": null,
            "flex_flow": null,
            "grid_area": null,
            "grid_auto_columns": null,
            "grid_auto_flow": null,
            "grid_auto_rows": null,
            "grid_column": null,
            "grid_gap": null,
            "grid_row": null,
            "grid_template_areas": null,
            "grid_template_columns": null,
            "grid_template_rows": null,
            "height": null,
            "justify_content": null,
            "justify_items": null,
            "left": null,
            "margin": null,
            "max_height": null,
            "max_width": null,
            "min_height": null,
            "min_width": null,
            "object_fit": null,
            "object_position": null,
            "order": null,
            "overflow": null,
            "overflow_x": null,
            "overflow_y": null,
            "padding": null,
            "right": null,
            "top": null,
            "visibility": null,
            "width": null
          }
        },
        "2fb2e2d52e1f4e11ac89d0bc51fdfb9e": {
          "model_module": "@jupyter-widgets/controls",
          "model_module_version": "1.5.0",
          "model_name": "HBoxModel",
          "state": {
            "_dom_classes": [],
            "_model_module": "@jupyter-widgets/controls",
            "_model_module_version": "1.5.0",
            "_model_name": "HBoxModel",
            "_view_count": null,
            "_view_module": "@jupyter-widgets/controls",
            "_view_module_version": "1.5.0",
            "_view_name": "HBoxView",
            "box_style": "",
            "children": [
              "IPY_MODEL_ca245adceaa545ad9c6155c9a67fed2e",
              "IPY_MODEL_39d3d3cefcf040c9bd602dd50002d1a1",
              "IPY_MODEL_756e7c45b7e3492e9f256b15659e278f"
            ],
            "layout": "IPY_MODEL_c4e1cc11b1aa421fba62e00b19c6b15b"
          }
        },
        "3210de7f879443988961823716830983": {
          "model_module": "@jupyter-widgets/base",
          "model_module_version": "1.2.0",
          "model_name": "LayoutModel",
          "state": {
            "_model_module": "@jupyter-widgets/base",
            "_model_module_version": "1.2.0",
            "_model_name": "LayoutModel",
            "_view_count": null,
            "_view_module": "@jupyter-widgets/base",
            "_view_module_version": "1.2.0",
            "_view_name": "LayoutView",
            "align_content": null,
            "align_items": null,
            "align_self": null,
            "border": null,
            "bottom": null,
            "display": null,
            "flex": null,
            "flex_flow": null,
            "grid_area": null,
            "grid_auto_columns": null,
            "grid_auto_flow": null,
            "grid_auto_rows": null,
            "grid_column": null,
            "grid_gap": null,
            "grid_row": null,
            "grid_template_areas": null,
            "grid_template_columns": null,
            "grid_template_rows": null,
            "height": null,
            "justify_content": null,
            "justify_items": null,
            "left": null,
            "margin": null,
            "max_height": null,
            "max_width": null,
            "min_height": null,
            "min_width": null,
            "object_fit": null,
            "object_position": null,
            "order": null,
            "overflow": null,
            "overflow_x": null,
            "overflow_y": null,
            "padding": null,
            "right": null,
            "top": null,
            "visibility": null,
            "width": null
          }
        },
        "36bd254fb3f74bd59f6b1cde1c9a0dc9": {
          "model_module": "@jupyter-widgets/controls",
          "model_module_version": "1.5.0",
          "model_name": "HTMLModel",
          "state": {
            "_dom_classes": [],
            "_model_module": "@jupyter-widgets/controls",
            "_model_module_version": "1.5.0",
            "_model_name": "HTMLModel",
            "_view_count": null,
            "_view_module": "@jupyter-widgets/controls",
            "_view_module_version": "1.5.0",
            "_view_name": "HTMLView",
            "description": "",
            "description_tooltip": null,
            "layout": "IPY_MODEL_6225709bae3f43fa85bea50b2c2ce68a",
            "placeholder": "​",
            "style": "IPY_MODEL_c75aa36c7b8a4316aedad541ca45921d",
            "value": " 9.08M/9.08M [00:00&lt;00:00, 20.2MB/s]"
          }
        },
        "38c6d0e032a943d49506420fd570c096": {
          "model_module": "@jupyter-widgets/controls",
          "model_module_version": "1.5.0",
          "model_name": "DescriptionStyleModel",
          "state": {
            "_model_module": "@jupyter-widgets/controls",
            "_model_module_version": "1.5.0",
            "_model_name": "DescriptionStyleModel",
            "_view_count": null,
            "_view_module": "@jupyter-widgets/base",
            "_view_module_version": "1.2.0",
            "_view_name": "StyleView",
            "description_width": ""
          }
        },
        "38cabdd6844945d0b17a62a409da8fc1": {
          "model_module": "@jupyter-widgets/controls",
          "model_module_version": "1.5.0",
          "model_name": "FloatProgressModel",
          "state": {
            "_dom_classes": [],
            "_model_module": "@jupyter-widgets/controls",
            "_model_module_version": "1.5.0",
            "_model_name": "FloatProgressModel",
            "_view_count": null,
            "_view_module": "@jupyter-widgets/controls",
            "_view_module_version": "1.5.0",
            "_view_name": "ProgressView",
            "bar_style": "success",
            "description": "",
            "description_tooltip": null,
            "layout": "IPY_MODEL_bfe4cba04b994283b42bcbb697a3cb52",
            "max": 1012,
            "min": 0,
            "orientation": "horizontal",
            "style": "IPY_MODEL_959749806e924a0497ee8251c40bc513",
            "value": 1012
          }
        },
        "399d4f2506e7417ab8da15a9327826dc": {
          "model_module": "@jupyter-widgets/controls",
          "model_module_version": "1.5.0",
          "model_name": "FloatProgressModel",
          "state": {
            "_dom_classes": [],
            "_model_module": "@jupyter-widgets/controls",
            "_model_module_version": "1.5.0",
            "_model_name": "FloatProgressModel",
            "_view_count": null,
            "_view_module": "@jupyter-widgets/controls",
            "_view_module_version": "1.5.0",
            "_view_name": "ProgressView",
            "bar_style": "success",
            "description": "",
            "description_tooltip": null,
            "layout": "IPY_MODEL_0ca0d064895b4ccdad82fcac48862f3c",
            "max": 2472,
            "min": 0,
            "orientation": "horizontal",
            "style": "IPY_MODEL_7d1756e4f2904635b269569a85af2c60",
            "value": 2472
          }
        },
        "39d3d3cefcf040c9bd602dd50002d1a1": {
          "model_module": "@jupyter-widgets/controls",
          "model_module_version": "1.5.0",
          "model_name": "FloatProgressModel",
          "state": {
            "_dom_classes": [],
            "_model_module": "@jupyter-widgets/controls",
            "_model_module_version": "1.5.0",
            "_model_name": "FloatProgressModel",
            "_view_count": null,
            "_view_module": "@jupyter-widgets/controls",
            "_view_module_version": "1.5.0",
            "_view_name": "ProgressView",
            "bar_style": "success",
            "description": "",
            "description_tooltip": null,
            "layout": "IPY_MODEL_b2c5e087a954419b82ce15ff4c90a635",
            "max": 239,
            "min": 0,
            "orientation": "horizontal",
            "style": "IPY_MODEL_e3724a53cb6345b9abb46637629186cb",
            "value": 239
          }
        },
        "3b029a09099c4e3c97ec3afeae0d1392": {
          "model_module": "@jupyter-widgets/controls",
          "model_module_version": "1.5.0",
          "model_name": "HTMLModel",
          "state": {
            "_dom_classes": [],
            "_model_module": "@jupyter-widgets/controls",
            "_model_module_version": "1.5.0",
            "_model_name": "HTMLModel",
            "_view_count": null,
            "_view_module": "@jupyter-widgets/controls",
            "_view_module_version": "1.5.0",
            "_view_name": "HTMLView",
            "description": "",
            "description_tooltip": null,
            "layout": "IPY_MODEL_d1539f5154b84a008edea5ac64b4d812",
            "placeholder": "​",
            "style": "IPY_MODEL_929dd01f3d2e441d875cf1ec43bf7b05",
            "value": "Downloading (…)okenizer_config.json: 100%"
          }
        },
        "3e79d3e6b5d0443e8fe64ca8a7e6de21": {
          "model_module": "@jupyter-widgets/controls",
          "model_module_version": "1.5.0",
          "model_name": "ProgressStyleModel",
          "state": {
            "_model_module": "@jupyter-widgets/controls",
            "_model_module_version": "1.5.0",
            "_model_name": "ProgressStyleModel",
            "_view_count": null,
            "_view_module": "@jupyter-widgets/base",
            "_view_module_version": "1.2.0",
            "_view_name": "StyleView",
            "bar_color": null,
            "description_width": ""
          }
        },
        "3fb4321707b64b9b8c8f3d450b35f196": {
          "model_module": "@jupyter-widgets/base",
          "model_module_version": "1.2.0",
          "model_name": "LayoutModel",
          "state": {
            "_model_module": "@jupyter-widgets/base",
            "_model_module_version": "1.2.0",
            "_model_name": "LayoutModel",
            "_view_count": null,
            "_view_module": "@jupyter-widgets/base",
            "_view_module_version": "1.2.0",
            "_view_name": "LayoutView",
            "align_content": null,
            "align_items": null,
            "align_self": null,
            "border": null,
            "bottom": null,
            "display": null,
            "flex": null,
            "flex_flow": null,
            "grid_area": null,
            "grid_auto_columns": null,
            "grid_auto_flow": null,
            "grid_auto_rows": null,
            "grid_column": null,
            "grid_gap": null,
            "grid_row": null,
            "grid_template_areas": null,
            "grid_template_columns": null,
            "grid_template_rows": null,
            "height": null,
            "justify_content": null,
            "justify_items": null,
            "left": null,
            "margin": null,
            "max_height": null,
            "max_width": null,
            "min_height": null,
            "min_width": null,
            "object_fit": null,
            "object_position": null,
            "order": null,
            "overflow": null,
            "overflow_x": null,
            "overflow_y": null,
            "padding": null,
            "right": null,
            "top": null,
            "visibility": null,
            "width": null
          }
        },
        "45222ec6826a4966babaef7b37664428": {
          "model_module": "@jupyter-widgets/controls",
          "model_module_version": "1.5.0",
          "model_name": "HBoxModel",
          "state": {
            "_dom_classes": [],
            "_model_module": "@jupyter-widgets/controls",
            "_model_module_version": "1.5.0",
            "_model_name": "HBoxModel",
            "_view_count": null,
            "_view_module": "@jupyter-widgets/controls",
            "_view_module_version": "1.5.0",
            "_view_name": "HBoxView",
            "box_style": "",
            "children": [
              "IPY_MODEL_b86803bc0c24467e82cbb86d309da197",
              "IPY_MODEL_399d4f2506e7417ab8da15a9327826dc",
              "IPY_MODEL_b15722c3c0bb4b69b6265d1b59c4cc39"
            ],
            "layout": "IPY_MODEL_b36951f720fc4ffaacea0478eebc5e86"
          }
        },
        "456d8e886e3f4768ae289ef2986c7cf0": {
          "model_module": "@jupyter-widgets/controls",
          "model_module_version": "1.5.0",
          "model_name": "HBoxModel",
          "state": {
            "_dom_classes": [],
            "_model_module": "@jupyter-widgets/controls",
            "_model_module_version": "1.5.0",
            "_model_name": "HBoxModel",
            "_view_count": null,
            "_view_module": "@jupyter-widgets/controls",
            "_view_module_version": "1.5.0",
            "_view_name": "HBoxView",
            "box_style": "",
            "children": [
              "IPY_MODEL_80818f47f7c44e48b83d061479379699",
              "IPY_MODEL_89f29227cd3c4515ab729f9c8aae19b7",
              "IPY_MODEL_9160bcb325ce459c9176279667e14487"
            ],
            "layout": "IPY_MODEL_e756fd6a105c4b78995a93fe9df0ed61"
          }
        },
        "4b8681f525ca4fafbcc168fab46ae2e6": {
          "model_module": "@jupyter-widgets/base",
          "model_module_version": "1.2.0",
          "model_name": "LayoutModel",
          "state": {
            "_model_module": "@jupyter-widgets/base",
            "_model_module_version": "1.2.0",
            "_model_name": "LayoutModel",
            "_view_count": null,
            "_view_module": "@jupyter-widgets/base",
            "_view_module_version": "1.2.0",
            "_view_name": "LayoutView",
            "align_content": null,
            "align_items": null,
            "align_self": null,
            "border": null,
            "bottom": null,
            "display": null,
            "flex": null,
            "flex_flow": null,
            "grid_area": null,
            "grid_auto_columns": null,
            "grid_auto_flow": null,
            "grid_auto_rows": null,
            "grid_column": null,
            "grid_gap": null,
            "grid_row": null,
            "grid_template_areas": null,
            "grid_template_columns": null,
            "grid_template_rows": null,
            "height": null,
            "justify_content": null,
            "justify_items": null,
            "left": null,
            "margin": null,
            "max_height": null,
            "max_width": null,
            "min_height": null,
            "min_width": null,
            "object_fit": null,
            "object_position": null,
            "order": null,
            "overflow": null,
            "overflow_x": null,
            "overflow_y": null,
            "padding": null,
            "right": null,
            "top": null,
            "visibility": null,
            "width": null
          }
        },
        "5a5138d8cf5c478191f34bb82e6c079b": {
          "model_module": "@jupyter-widgets/base",
          "model_module_version": "1.2.0",
          "model_name": "LayoutModel",
          "state": {
            "_model_module": "@jupyter-widgets/base",
            "_model_module_version": "1.2.0",
            "_model_name": "LayoutModel",
            "_view_count": null,
            "_view_module": "@jupyter-widgets/base",
            "_view_module_version": "1.2.0",
            "_view_name": "LayoutView",
            "align_content": null,
            "align_items": null,
            "align_self": null,
            "border": null,
            "bottom": null,
            "display": null,
            "flex": null,
            "flex_flow": null,
            "grid_area": null,
            "grid_auto_columns": null,
            "grid_auto_flow": null,
            "grid_auto_rows": null,
            "grid_column": null,
            "grid_gap": null,
            "grid_row": null,
            "grid_template_areas": null,
            "grid_template_columns": null,
            "grid_template_rows": null,
            "height": null,
            "justify_content": null,
            "justify_items": null,
            "left": null,
            "margin": null,
            "max_height": null,
            "max_width": null,
            "min_height": null,
            "min_width": null,
            "object_fit": null,
            "object_position": null,
            "order": null,
            "overflow": null,
            "overflow_x": null,
            "overflow_y": null,
            "padding": null,
            "right": null,
            "top": null,
            "visibility": null,
            "width": null
          }
        },
        "5b38be37724b4d088d77e556c2cba249": {
          "model_module": "@jupyter-widgets/controls",
          "model_module_version": "1.5.0",
          "model_name": "ProgressStyleModel",
          "state": {
            "_model_module": "@jupyter-widgets/controls",
            "_model_module_version": "1.5.0",
            "_model_name": "ProgressStyleModel",
            "_view_count": null,
            "_view_module": "@jupyter-widgets/base",
            "_view_module_version": "1.2.0",
            "_view_name": "StyleView",
            "bar_color": null,
            "description_width": ""
          }
        },
        "6225709bae3f43fa85bea50b2c2ce68a": {
          "model_module": "@jupyter-widgets/base",
          "model_module_version": "1.2.0",
          "model_name": "LayoutModel",
          "state": {
            "_model_module": "@jupyter-widgets/base",
            "_model_module_version": "1.2.0",
            "_model_name": "LayoutModel",
            "_view_count": null,
            "_view_module": "@jupyter-widgets/base",
            "_view_module_version": "1.2.0",
            "_view_name": "LayoutView",
            "align_content": null,
            "align_items": null,
            "align_self": null,
            "border": null,
            "bottom": null,
            "display": null,
            "flex": null,
            "flex_flow": null,
            "grid_area": null,
            "grid_auto_columns": null,
            "grid_auto_flow": null,
            "grid_auto_rows": null,
            "grid_column": null,
            "grid_gap": null,
            "grid_row": null,
            "grid_template_areas": null,
            "grid_template_columns": null,
            "grid_template_rows": null,
            "height": null,
            "justify_content": null,
            "justify_items": null,
            "left": null,
            "margin": null,
            "max_height": null,
            "max_width": null,
            "min_height": null,
            "min_width": null,
            "object_fit": null,
            "object_position": null,
            "order": null,
            "overflow": null,
            "overflow_x": null,
            "overflow_y": null,
            "padding": null,
            "right": null,
            "top": null,
            "visibility": null,
            "width": null
          }
        },
        "64ff4366c4c34efd85eaac9150997bde": {
          "model_module": "@jupyter-widgets/controls",
          "model_module_version": "1.5.0",
          "model_name": "DescriptionStyleModel",
          "state": {
            "_model_module": "@jupyter-widgets/controls",
            "_model_module_version": "1.5.0",
            "_model_name": "DescriptionStyleModel",
            "_view_count": null,
            "_view_module": "@jupyter-widgets/base",
            "_view_module_version": "1.2.0",
            "_view_name": "StyleView",
            "description_width": ""
          }
        },
        "6b21dde6c211418b941fc0cc3ec971e8": {
          "model_module": "@jupyter-widgets/base",
          "model_module_version": "1.2.0",
          "model_name": "LayoutModel",
          "state": {
            "_model_module": "@jupyter-widgets/base",
            "_model_module_version": "1.2.0",
            "_model_name": "LayoutModel",
            "_view_count": null,
            "_view_module": "@jupyter-widgets/base",
            "_view_module_version": "1.2.0",
            "_view_name": "LayoutView",
            "align_content": null,
            "align_items": null,
            "align_self": null,
            "border": null,
            "bottom": null,
            "display": null,
            "flex": null,
            "flex_flow": null,
            "grid_area": null,
            "grid_auto_columns": null,
            "grid_auto_flow": null,
            "grid_auto_rows": null,
            "grid_column": null,
            "grid_gap": null,
            "grid_row": null,
            "grid_template_areas": null,
            "grid_template_columns": null,
            "grid_template_rows": null,
            "height": null,
            "justify_content": null,
            "justify_items": null,
            "left": null,
            "margin": null,
            "max_height": null,
            "max_width": null,
            "min_height": null,
            "min_width": null,
            "object_fit": null,
            "object_position": null,
            "order": null,
            "overflow": null,
            "overflow_x": null,
            "overflow_y": null,
            "padding": null,
            "right": null,
            "top": null,
            "visibility": null,
            "width": null
          }
        },
        "6dfe87b0eb1048149009a0a07e2a830e": {
          "model_module": "@jupyter-widgets/base",
          "model_module_version": "1.2.0",
          "model_name": "LayoutModel",
          "state": {
            "_model_module": "@jupyter-widgets/base",
            "_model_module_version": "1.2.0",
            "_model_name": "LayoutModel",
            "_view_count": null,
            "_view_module": "@jupyter-widgets/base",
            "_view_module_version": "1.2.0",
            "_view_name": "LayoutView",
            "align_content": null,
            "align_items": null,
            "align_self": null,
            "border": null,
            "bottom": null,
            "display": null,
            "flex": null,
            "flex_flow": null,
            "grid_area": null,
            "grid_auto_columns": null,
            "grid_auto_flow": null,
            "grid_auto_rows": null,
            "grid_column": null,
            "grid_gap": null,
            "grid_row": null,
            "grid_template_areas": null,
            "grid_template_columns": null,
            "grid_template_rows": null,
            "height": null,
            "justify_content": null,
            "justify_items": null,
            "left": null,
            "margin": null,
            "max_height": null,
            "max_width": null,
            "min_height": null,
            "min_width": null,
            "object_fit": null,
            "object_position": null,
            "order": null,
            "overflow": null,
            "overflow_x": null,
            "overflow_y": null,
            "padding": null,
            "right": null,
            "top": null,
            "visibility": null,
            "width": null
          }
        },
        "703f2aefe557404cadb50351411fe0dd": {
          "model_module": "@jupyter-widgets/controls",
          "model_module_version": "1.5.0",
          "model_name": "DescriptionStyleModel",
          "state": {
            "_model_module": "@jupyter-widgets/controls",
            "_model_module_version": "1.5.0",
            "_model_name": "DescriptionStyleModel",
            "_view_count": null,
            "_view_module": "@jupyter-widgets/base",
            "_view_module_version": "1.2.0",
            "_view_name": "StyleView",
            "description_width": ""
          }
        },
        "72f9682caf6b40ab8c4525bfb151360c": {
          "model_module": "@jupyter-widgets/controls",
          "model_module_version": "1.5.0",
          "model_name": "FloatProgressModel",
          "state": {
            "_dom_classes": [],
            "_model_module": "@jupyter-widgets/controls",
            "_model_module_version": "1.5.0",
            "_model_name": "FloatProgressModel",
            "_view_count": null,
            "_view_module": "@jupyter-widgets/controls",
            "_view_module_version": "1.5.0",
            "_view_name": "ProgressView",
            "bar_style": "success",
            "description": "",
            "description_tooltip": null,
            "layout": "IPY_MODEL_8087e764ed2a493e80a983efa045217a",
            "max": 421,
            "min": 0,
            "orientation": "horizontal",
            "style": "IPY_MODEL_7312a2baf2e5494dbae371b6ff0542bd",
            "value": 421
          }
        },
        "7312a2baf2e5494dbae371b6ff0542bd": {
          "model_module": "@jupyter-widgets/controls",
          "model_module_version": "1.5.0",
          "model_name": "ProgressStyleModel",
          "state": {
            "_model_module": "@jupyter-widgets/controls",
            "_model_module_version": "1.5.0",
            "_model_name": "ProgressStyleModel",
            "_view_count": null,
            "_view_module": "@jupyter-widgets/base",
            "_view_module_version": "1.2.0",
            "_view_name": "StyleView",
            "bar_color": null,
            "description_width": ""
          }
        },
        "74cd2b1895044bd3ae8466a7e0e4fca2": {
          "model_module": "@jupyter-widgets/base",
          "model_module_version": "1.2.0",
          "model_name": "LayoutModel",
          "state": {
            "_model_module": "@jupyter-widgets/base",
            "_model_module_version": "1.2.0",
            "_model_name": "LayoutModel",
            "_view_count": null,
            "_view_module": "@jupyter-widgets/base",
            "_view_module_version": "1.2.0",
            "_view_name": "LayoutView",
            "align_content": null,
            "align_items": null,
            "align_self": null,
            "border": null,
            "bottom": null,
            "display": null,
            "flex": null,
            "flex_flow": null,
            "grid_area": null,
            "grid_auto_columns": null,
            "grid_auto_flow": null,
            "grid_auto_rows": null,
            "grid_column": null,
            "grid_gap": null,
            "grid_row": null,
            "grid_template_areas": null,
            "grid_template_columns": null,
            "grid_template_rows": null,
            "height": null,
            "justify_content": null,
            "justify_items": null,
            "left": null,
            "margin": null,
            "max_height": null,
            "max_width": null,
            "min_height": null,
            "min_width": null,
            "object_fit": null,
            "object_position": null,
            "order": null,
            "overflow": null,
            "overflow_x": null,
            "overflow_y": null,
            "padding": null,
            "right": null,
            "top": null,
            "visibility": null,
            "width": null
          }
        },
        "755b91fa80e14abfa133c37c019e4630": {
          "model_module": "@jupyter-widgets/controls",
          "model_module_version": "1.5.0",
          "model_name": "HBoxModel",
          "state": {
            "_dom_classes": [],
            "_model_module": "@jupyter-widgets/controls",
            "_model_module_version": "1.5.0",
            "_model_name": "HBoxModel",
            "_view_count": null,
            "_view_module": "@jupyter-widgets/controls",
            "_view_module_version": "1.5.0",
            "_view_name": "HBoxView",
            "box_style": "",
            "children": [
              "IPY_MODEL_98e5cd21d48a4c1b9c367c0826cd48c7",
              "IPY_MODEL_b5697de62bc048d69e431d51f8e9e8e3",
              "IPY_MODEL_d400e37690d442b0a3089205ca7f3927"
            ],
            "layout": "IPY_MODEL_4b8681f525ca4fafbcc168fab46ae2e6"
          }
        },
        "756e7c45b7e3492e9f256b15659e278f": {
          "model_module": "@jupyter-widgets/controls",
          "model_module_version": "1.5.0",
          "model_name": "HTMLModel",
          "state": {
            "_dom_classes": [],
            "_model_module": "@jupyter-widgets/controls",
            "_model_module_version": "1.5.0",
            "_model_name": "HTMLModel",
            "_view_count": null,
            "_view_module": "@jupyter-widgets/controls",
            "_view_module_version": "1.5.0",
            "_view_name": "HTMLView",
            "description": "",
            "description_tooltip": null,
            "layout": "IPY_MODEL_6dfe87b0eb1048149009a0a07e2a830e",
            "placeholder": "​",
            "style": "IPY_MODEL_0f20f980caca4c6ba468c305304ef6dc",
            "value": " 239/239 [00:00&lt;00:00, 5.60kB/s]"
          }
        },
        "7d1756e4f2904635b269569a85af2c60": {
          "model_module": "@jupyter-widgets/controls",
          "model_module_version": "1.5.0",
          "model_name": "ProgressStyleModel",
          "state": {
            "_model_module": "@jupyter-widgets/controls",
            "_model_module_version": "1.5.0",
            "_model_name": "ProgressStyleModel",
            "_view_count": null,
            "_view_module": "@jupyter-widgets/base",
            "_view_module_version": "1.2.0",
            "_view_name": "StyleView",
            "bar_color": null,
            "description_width": ""
          }
        },
        "80818f47f7c44e48b83d061479379699": {
          "model_module": "@jupyter-widgets/controls",
          "model_module_version": "1.5.0",
          "model_name": "HTMLModel",
          "state": {
            "_dom_classes": [],
            "_model_module": "@jupyter-widgets/controls",
            "_model_module_version": "1.5.0",
            "_model_name": "HTMLModel",
            "_view_count": null,
            "_view_module": "@jupyter-widgets/controls",
            "_view_module_version": "1.5.0",
            "_view_name": "HTMLView",
            "description": "",
            "description_tooltip": null,
            "layout": "IPY_MODEL_0d93d0b9625c4edead553e1bfac210d2",
            "placeholder": "​",
            "style": "IPY_MODEL_1dbd8176ad7643dc8263ff88ed2c47e0",
            "value": "Downloading (…)tencepiece.bpe.model: 100%"
          }
        },
        "8087e764ed2a493e80a983efa045217a": {
          "model_module": "@jupyter-widgets/base",
          "model_module_version": "1.2.0",
          "model_name": "LayoutModel",
          "state": {
            "_model_module": "@jupyter-widgets/base",
            "_model_module_version": "1.2.0",
            "_model_name": "LayoutModel",
            "_view_count": null,
            "_view_module": "@jupyter-widgets/base",
            "_view_module_version": "1.2.0",
            "_view_name": "LayoutView",
            "align_content": null,
            "align_items": null,
            "align_self": null,
            "border": null,
            "bottom": null,
            "display": null,
            "flex": null,
            "flex_flow": null,
            "grid_area": null,
            "grid_auto_columns": null,
            "grid_auto_flow": null,
            "grid_auto_rows": null,
            "grid_column": null,
            "grid_gap": null,
            "grid_row": null,
            "grid_template_areas": null,
            "grid_template_columns": null,
            "grid_template_rows": null,
            "height": null,
            "justify_content": null,
            "justify_items": null,
            "left": null,
            "margin": null,
            "max_height": null,
            "max_width": null,
            "min_height": null,
            "min_width": null,
            "object_fit": null,
            "object_position": null,
            "order": null,
            "overflow": null,
            "overflow_x": null,
            "overflow_y": null,
            "padding": null,
            "right": null,
            "top": null,
            "visibility": null,
            "width": null
          }
        },
        "89f29227cd3c4515ab729f9c8aae19b7": {
          "model_module": "@jupyter-widgets/controls",
          "model_module_version": "1.5.0",
          "model_name": "FloatProgressModel",
          "state": {
            "_dom_classes": [],
            "_model_module": "@jupyter-widgets/controls",
            "_model_module_version": "1.5.0",
            "_model_name": "FloatProgressModel",
            "_view_count": null,
            "_view_module": "@jupyter-widgets/controls",
            "_view_module_version": "1.5.0",
            "_view_name": "ProgressView",
            "bar_style": "success",
            "description": "",
            "description_tooltip": null,
            "layout": "IPY_MODEL_e20fb7e6fac741078796defc4d8e5f4c",
            "max": 5069051,
            "min": 0,
            "orientation": "horizontal",
            "style": "IPY_MODEL_5b38be37724b4d088d77e556c2cba249",
            "value": 5069051
          }
        },
        "8fba64ec8970490b98d62b35c8e3bdb4": {
          "model_module": "@jupyter-widgets/controls",
          "model_module_version": "1.5.0",
          "model_name": "HBoxModel",
          "state": {
            "_dom_classes": [],
            "_model_module": "@jupyter-widgets/controls",
            "_model_module_version": "1.5.0",
            "_model_name": "HBoxModel",
            "_view_count": null,
            "_view_module": "@jupyter-widgets/controls",
            "_view_module_version": "1.5.0",
            "_view_name": "HBoxView",
            "box_style": "",
            "children": [
              "IPY_MODEL_1a8c8bf19bf0426fa654ab445c44d718",
              "IPY_MODEL_38cabdd6844945d0b17a62a409da8fc1",
              "IPY_MODEL_d8ad531e52874d68849c43d0d1e04d9e"
            ],
            "layout": "IPY_MODEL_c4ce883c13db45cd8089166a048fab04"
          }
        },
        "8ffcd6348c7f4101bcb125c2528a5abd": {
          "model_module": "@jupyter-widgets/base",
          "model_module_version": "1.2.0",
          "model_name": "LayoutModel",
          "state": {
            "_model_module": "@jupyter-widgets/base",
            "_model_module_version": "1.2.0",
            "_model_name": "LayoutModel",
            "_view_count": null,
            "_view_module": "@jupyter-widgets/base",
            "_view_module_version": "1.2.0",
            "_view_name": "LayoutView",
            "align_content": null,
            "align_items": null,
            "align_self": null,
            "border": null,
            "bottom": null,
            "display": null,
            "flex": null,
            "flex_flow": null,
            "grid_area": null,
            "grid_auto_columns": null,
            "grid_auto_flow": null,
            "grid_auto_rows": null,
            "grid_column": null,
            "grid_gap": null,
            "grid_row": null,
            "grid_template_areas": null,
            "grid_template_columns": null,
            "grid_template_rows": null,
            "height": null,
            "justify_content": null,
            "justify_items": null,
            "left": null,
            "margin": null,
            "max_height": null,
            "max_width": null,
            "min_height": null,
            "min_width": null,
            "object_fit": null,
            "object_position": null,
            "order": null,
            "overflow": null,
            "overflow_x": null,
            "overflow_y": null,
            "padding": null,
            "right": null,
            "top": null,
            "visibility": null,
            "width": null
          }
        },
        "9160bcb325ce459c9176279667e14487": {
          "model_module": "@jupyter-widgets/controls",
          "model_module_version": "1.5.0",
          "model_name": "HTMLModel",
          "state": {
            "_dom_classes": [],
            "_model_module": "@jupyter-widgets/controls",
            "_model_module_version": "1.5.0",
            "_model_name": "HTMLModel",
            "_view_count": null,
            "_view_module": "@jupyter-widgets/controls",
            "_view_module_version": "1.5.0",
            "_view_name": "HTMLView",
            "description": "",
            "description_tooltip": null,
            "layout": "IPY_MODEL_3fb4321707b64b9b8c8f3d450b35f196",
            "placeholder": "​",
            "style": "IPY_MODEL_38c6d0e032a943d49506420fd570c096",
            "value": " 5.07M/5.07M [00:00&lt;00:00, 10.1MB/s]"
          }
        },
        "929dd01f3d2e441d875cf1ec43bf7b05": {
          "model_module": "@jupyter-widgets/controls",
          "model_module_version": "1.5.0",
          "model_name": "DescriptionStyleModel",
          "state": {
            "_model_module": "@jupyter-widgets/controls",
            "_model_module_version": "1.5.0",
            "_model_name": "DescriptionStyleModel",
            "_view_count": null,
            "_view_module": "@jupyter-widgets/base",
            "_view_module_version": "1.2.0",
            "_view_name": "StyleView",
            "description_width": ""
          }
        },
        "959749806e924a0497ee8251c40bc513": {
          "model_module": "@jupyter-widgets/controls",
          "model_module_version": "1.5.0",
          "model_name": "ProgressStyleModel",
          "state": {
            "_model_module": "@jupyter-widgets/controls",
            "_model_module_version": "1.5.0",
            "_model_name": "ProgressStyleModel",
            "_view_count": null,
            "_view_module": "@jupyter-widgets/base",
            "_view_module_version": "1.2.0",
            "_view_name": "StyleView",
            "bar_color": null,
            "description_width": ""
          }
        },
        "98e5cd21d48a4c1b9c367c0826cd48c7": {
          "model_module": "@jupyter-widgets/controls",
          "model_module_version": "1.5.0",
          "model_name": "HTMLModel",
          "state": {
            "_dom_classes": [],
            "_model_module": "@jupyter-widgets/controls",
            "_model_module_version": "1.5.0",
            "_model_name": "HTMLModel",
            "_view_count": null,
            "_view_module": "@jupyter-widgets/controls",
            "_view_module_version": "1.5.0",
            "_view_name": "HTMLView",
            "description": "",
            "description_tooltip": null,
            "layout": "IPY_MODEL_a21917919c1e488987d18c8f88e27c53",
            "placeholder": "​",
            "style": "IPY_MODEL_fb70fb77bc92468e99e8af240a473142",
            "value": "Downloading pytorch_model.bin: 100%"
          }
        },
        "9cdbf5c682494bb98655bee3cc5ee7d3": {
          "model_module": "@jupyter-widgets/controls",
          "model_module_version": "1.5.0",
          "model_name": "DescriptionStyleModel",
          "state": {
            "_model_module": "@jupyter-widgets/controls",
            "_model_module_version": "1.5.0",
            "_model_name": "DescriptionStyleModel",
            "_view_count": null,
            "_view_module": "@jupyter-widgets/base",
            "_view_module_version": "1.2.0",
            "_view_name": "StyleView",
            "description_width": ""
          }
        },
        "a21917919c1e488987d18c8f88e27c53": {
          "model_module": "@jupyter-widgets/base",
          "model_module_version": "1.2.0",
          "model_name": "LayoutModel",
          "state": {
            "_model_module": "@jupyter-widgets/base",
            "_model_module_version": "1.2.0",
            "_model_name": "LayoutModel",
            "_view_count": null,
            "_view_module": "@jupyter-widgets/base",
            "_view_module_version": "1.2.0",
            "_view_name": "LayoutView",
            "align_content": null,
            "align_items": null,
            "align_self": null,
            "border": null,
            "bottom": null,
            "display": null,
            "flex": null,
            "flex_flow": null,
            "grid_area": null,
            "grid_auto_columns": null,
            "grid_auto_flow": null,
            "grid_auto_rows": null,
            "grid_column": null,
            "grid_gap": null,
            "grid_row": null,
            "grid_template_areas": null,
            "grid_template_columns": null,
            "grid_template_rows": null,
            "height": null,
            "justify_content": null,
            "justify_items": null,
            "left": null,
            "margin": null,
            "max_height": null,
            "max_width": null,
            "min_height": null,
            "min_width": null,
            "object_fit": null,
            "object_position": null,
            "order": null,
            "overflow": null,
            "overflow_x": null,
            "overflow_y": null,
            "padding": null,
            "right": null,
            "top": null,
            "visibility": null,
            "width": null
          }
        },
        "a3c41ad5bbd94b71b2b0481c1bd3d563": {
          "model_module": "@jupyter-widgets/base",
          "model_module_version": "1.2.0",
          "model_name": "LayoutModel",
          "state": {
            "_model_module": "@jupyter-widgets/base",
            "_model_module_version": "1.2.0",
            "_model_name": "LayoutModel",
            "_view_count": null,
            "_view_module": "@jupyter-widgets/base",
            "_view_module_version": "1.2.0",
            "_view_name": "LayoutView",
            "align_content": null,
            "align_items": null,
            "align_self": null,
            "border": null,
            "bottom": null,
            "display": null,
            "flex": null,
            "flex_flow": null,
            "grid_area": null,
            "grid_auto_columns": null,
            "grid_auto_flow": null,
            "grid_auto_rows": null,
            "grid_column": null,
            "grid_gap": null,
            "grid_row": null,
            "grid_template_areas": null,
            "grid_template_columns": null,
            "grid_template_rows": null,
            "height": null,
            "justify_content": null,
            "justify_items": null,
            "left": null,
            "margin": null,
            "max_height": null,
            "max_width": null,
            "min_height": null,
            "min_width": null,
            "object_fit": null,
            "object_position": null,
            "order": null,
            "overflow": null,
            "overflow_x": null,
            "overflow_y": null,
            "padding": null,
            "right": null,
            "top": null,
            "visibility": null,
            "width": null
          }
        },
        "b14892bf297b44b09cf40b1fa2d58d82": {
          "model_module": "@jupyter-widgets/controls",
          "model_module_version": "1.5.0",
          "model_name": "HTMLModel",
          "state": {
            "_dom_classes": [],
            "_model_module": "@jupyter-widgets/controls",
            "_model_module_version": "1.5.0",
            "_model_name": "HTMLModel",
            "_view_count": null,
            "_view_module": "@jupyter-widgets/controls",
            "_view_module_version": "1.5.0",
            "_view_name": "HTMLView",
            "description": "",
            "description_tooltip": null,
            "layout": "IPY_MODEL_74cd2b1895044bd3ae8466a7e0e4fca2",
            "placeholder": "​",
            "style": "IPY_MODEL_2954e6d021e748d69fb630d4ef4683b8",
            "value": " 421/421 [00:00&lt;00:00, 11.3kB/s]"
          }
        },
        "b15722c3c0bb4b69b6265d1b59c4cc39": {
          "model_module": "@jupyter-widgets/controls",
          "model_module_version": "1.5.0",
          "model_name": "HTMLModel",
          "state": {
            "_dom_classes": [],
            "_model_module": "@jupyter-widgets/controls",
            "_model_module_version": "1.5.0",
            "_model_name": "HTMLModel",
            "_view_count": null,
            "_view_module": "@jupyter-widgets/controls",
            "_view_module_version": "1.5.0",
            "_view_name": "HTMLView",
            "description": "",
            "description_tooltip": null,
            "layout": "IPY_MODEL_dea87df47f284ca3996f33d645eb5408",
            "placeholder": "​",
            "style": "IPY_MODEL_703f2aefe557404cadb50351411fe0dd",
            "value": " 6.33k/? [00:00&lt;00:00, 142kB/s]"
          }
        },
        "b2c5e087a954419b82ce15ff4c90a635": {
          "model_module": "@jupyter-widgets/base",
          "model_module_version": "1.2.0",
          "model_name": "LayoutModel",
          "state": {
            "_model_module": "@jupyter-widgets/base",
            "_model_module_version": "1.2.0",
            "_model_name": "LayoutModel",
            "_view_count": null,
            "_view_module": "@jupyter-widgets/base",
            "_view_module_version": "1.2.0",
            "_view_name": "LayoutView",
            "align_content": null,
            "align_items": null,
            "align_self": null,
            "border": null,
            "bottom": null,
            "display": null,
            "flex": null,
            "flex_flow": null,
            "grid_area": null,
            "grid_auto_columns": null,
            "grid_auto_flow": null,
            "grid_auto_rows": null,
            "grid_column": null,
            "grid_gap": null,
            "grid_row": null,
            "grid_template_areas": null,
            "grid_template_columns": null,
            "grid_template_rows": null,
            "height": null,
            "justify_content": null,
            "justify_items": null,
            "left": null,
            "margin": null,
            "max_height": null,
            "max_width": null,
            "min_height": null,
            "min_width": null,
            "object_fit": null,
            "object_position": null,
            "order": null,
            "overflow": null,
            "overflow_x": null,
            "overflow_y": null,
            "padding": null,
            "right": null,
            "top": null,
            "visibility": null,
            "width": null
          }
        },
        "b36951f720fc4ffaacea0478eebc5e86": {
          "model_module": "@jupyter-widgets/base",
          "model_module_version": "1.2.0",
          "model_name": "LayoutModel",
          "state": {
            "_model_module": "@jupyter-widgets/base",
            "_model_module_version": "1.2.0",
            "_model_name": "LayoutModel",
            "_view_count": null,
            "_view_module": "@jupyter-widgets/base",
            "_view_module_version": "1.2.0",
            "_view_name": "LayoutView",
            "align_content": null,
            "align_items": null,
            "align_self": null,
            "border": null,
            "bottom": null,
            "display": null,
            "flex": null,
            "flex_flow": null,
            "grid_area": null,
            "grid_auto_columns": null,
            "grid_auto_flow": null,
            "grid_auto_rows": null,
            "grid_column": null,
            "grid_gap": null,
            "grid_row": null,
            "grid_template_areas": null,
            "grid_template_columns": null,
            "grid_template_rows": null,
            "height": null,
            "justify_content": null,
            "justify_items": null,
            "left": null,
            "margin": null,
            "max_height": null,
            "max_width": null,
            "min_height": null,
            "min_width": null,
            "object_fit": null,
            "object_position": null,
            "order": null,
            "overflow": null,
            "overflow_x": null,
            "overflow_y": null,
            "padding": null,
            "right": null,
            "top": null,
            "visibility": null,
            "width": null
          }
        },
        "b5697de62bc048d69e431d51f8e9e8e3": {
          "model_module": "@jupyter-widgets/controls",
          "model_module_version": "1.5.0",
          "model_name": "FloatProgressModel",
          "state": {
            "_dom_classes": [],
            "_model_module": "@jupyter-widgets/controls",
            "_model_module_version": "1.5.0",
            "_model_name": "FloatProgressModel",
            "_view_count": null,
            "_view_module": "@jupyter-widgets/controls",
            "_view_module_version": "1.5.0",
            "_view_name": "ProgressView",
            "bar_style": "success",
            "description": "",
            "description_tooltip": null,
            "layout": "IPY_MODEL_8ffcd6348c7f4101bcb125c2528a5abd",
            "max": 2235555441,
            "min": 0,
            "orientation": "horizontal",
            "style": "IPY_MODEL_223ca3cf97984189a55e2690e880a15e",
            "value": 2235555441
          }
        },
        "b86803bc0c24467e82cbb86d309da197": {
          "model_module": "@jupyter-widgets/controls",
          "model_module_version": "1.5.0",
          "model_name": "HTMLModel",
          "state": {
            "_dom_classes": [],
            "_model_module": "@jupyter-widgets/controls",
            "_model_module_version": "1.5.0",
            "_model_name": "HTMLModel",
            "_view_count": null,
            "_view_module": "@jupyter-widgets/controls",
            "_view_module_version": "1.5.0",
            "_view_name": "HTMLView",
            "description": "",
            "description_tooltip": null,
            "layout": "IPY_MODEL_cde5795188484a68b99593868e9b273b",
            "placeholder": "​",
            "style": "IPY_MODEL_9cdbf5c682494bb98655bee3cc5ee7d3",
            "value": "Downloading builder script: "
          }
        },
        "be73150a8b4641f4b58e838c9fc6d316": {
          "model_module": "@jupyter-widgets/controls",
          "model_module_version": "1.5.0",
          "model_name": "HBoxModel",
          "state": {
            "_dom_classes": [],
            "_model_module": "@jupyter-widgets/controls",
            "_model_module_version": "1.5.0",
            "_model_name": "HBoxModel",
            "_view_count": null,
            "_view_module": "@jupyter-widgets/controls",
            "_view_module_version": "1.5.0",
            "_view_name": "HBoxView",
            "box_style": "",
            "children": [
              "IPY_MODEL_3b029a09099c4e3c97ec3afeae0d1392",
              "IPY_MODEL_72f9682caf6b40ab8c4525bfb151360c",
              "IPY_MODEL_b14892bf297b44b09cf40b1fa2d58d82"
            ],
            "layout": "IPY_MODEL_5a5138d8cf5c478191f34bb82e6c079b"
          }
        },
        "bfe4cba04b994283b42bcbb697a3cb52": {
          "model_module": "@jupyter-widgets/base",
          "model_module_version": "1.2.0",
          "model_name": "LayoutModel",
          "state": {
            "_model_module": "@jupyter-widgets/base",
            "_model_module_version": "1.2.0",
            "_model_name": "LayoutModel",
            "_view_count": null,
            "_view_module": "@jupyter-widgets/base",
            "_view_module_version": "1.2.0",
            "_view_name": "LayoutView",
            "align_content": null,
            "align_items": null,
            "align_self": null,
            "border": null,
            "bottom": null,
            "display": null,
            "flex": null,
            "flex_flow": null,
            "grid_area": null,
            "grid_auto_columns": null,
            "grid_auto_flow": null,
            "grid_auto_rows": null,
            "grid_column": null,
            "grid_gap": null,
            "grid_row": null,
            "grid_template_areas": null,
            "grid_template_columns": null,
            "grid_template_rows": null,
            "height": null,
            "justify_content": null,
            "justify_items": null,
            "left": null,
            "margin": null,
            "max_height": null,
            "max_width": null,
            "min_height": null,
            "min_width": null,
            "object_fit": null,
            "object_position": null,
            "order": null,
            "overflow": null,
            "overflow_x": null,
            "overflow_y": null,
            "padding": null,
            "right": null,
            "top": null,
            "visibility": null,
            "width": null
          }
        },
        "c4ce883c13db45cd8089166a048fab04": {
          "model_module": "@jupyter-widgets/base",
          "model_module_version": "1.2.0",
          "model_name": "LayoutModel",
          "state": {
            "_model_module": "@jupyter-widgets/base",
            "_model_module_version": "1.2.0",
            "_model_name": "LayoutModel",
            "_view_count": null,
            "_view_module": "@jupyter-widgets/base",
            "_view_module_version": "1.2.0",
            "_view_name": "LayoutView",
            "align_content": null,
            "align_items": null,
            "align_self": null,
            "border": null,
            "bottom": null,
            "display": null,
            "flex": null,
            "flex_flow": null,
            "grid_area": null,
            "grid_auto_columns": null,
            "grid_auto_flow": null,
            "grid_auto_rows": null,
            "grid_column": null,
            "grid_gap": null,
            "grid_row": null,
            "grid_template_areas": null,
            "grid_template_columns": null,
            "grid_template_rows": null,
            "height": null,
            "justify_content": null,
            "justify_items": null,
            "left": null,
            "margin": null,
            "max_height": null,
            "max_width": null,
            "min_height": null,
            "min_width": null,
            "object_fit": null,
            "object_position": null,
            "order": null,
            "overflow": null,
            "overflow_x": null,
            "overflow_y": null,
            "padding": null,
            "right": null,
            "top": null,
            "visibility": null,
            "width": null
          }
        },
        "c4e1cc11b1aa421fba62e00b19c6b15b": {
          "model_module": "@jupyter-widgets/base",
          "model_module_version": "1.2.0",
          "model_name": "LayoutModel",
          "state": {
            "_model_module": "@jupyter-widgets/base",
            "_model_module_version": "1.2.0",
            "_model_name": "LayoutModel",
            "_view_count": null,
            "_view_module": "@jupyter-widgets/base",
            "_view_module_version": "1.2.0",
            "_view_name": "LayoutView",
            "align_content": null,
            "align_items": null,
            "align_self": null,
            "border": null,
            "bottom": null,
            "display": null,
            "flex": null,
            "flex_flow": null,
            "grid_area": null,
            "grid_auto_columns": null,
            "grid_auto_flow": null,
            "grid_auto_rows": null,
            "grid_column": null,
            "grid_gap": null,
            "grid_row": null,
            "grid_template_areas": null,
            "grid_template_columns": null,
            "grid_template_rows": null,
            "height": null,
            "justify_content": null,
            "justify_items": null,
            "left": null,
            "margin": null,
            "max_height": null,
            "max_width": null,
            "min_height": null,
            "min_width": null,
            "object_fit": null,
            "object_position": null,
            "order": null,
            "overflow": null,
            "overflow_x": null,
            "overflow_y": null,
            "padding": null,
            "right": null,
            "top": null,
            "visibility": null,
            "width": null
          }
        },
        "c75aa36c7b8a4316aedad541ca45921d": {
          "model_module": "@jupyter-widgets/controls",
          "model_module_version": "1.5.0",
          "model_name": "DescriptionStyleModel",
          "state": {
            "_model_module": "@jupyter-widgets/controls",
            "_model_module_version": "1.5.0",
            "_model_name": "DescriptionStyleModel",
            "_view_count": null,
            "_view_module": "@jupyter-widgets/base",
            "_view_module_version": "1.2.0",
            "_view_name": "StyleView",
            "description_width": ""
          }
        },
        "ca245adceaa545ad9c6155c9a67fed2e": {
          "model_module": "@jupyter-widgets/controls",
          "model_module_version": "1.5.0",
          "model_name": "HTMLModel",
          "state": {
            "_dom_classes": [],
            "_model_module": "@jupyter-widgets/controls",
            "_model_module_version": "1.5.0",
            "_model_name": "HTMLModel",
            "_view_count": null,
            "_view_module": "@jupyter-widgets/controls",
            "_view_module_version": "1.5.0",
            "_view_name": "HTMLView",
            "description": "",
            "description_tooltip": null,
            "layout": "IPY_MODEL_6b21dde6c211418b941fc0cc3ec971e8",
            "placeholder": "​",
            "style": "IPY_MODEL_efc3941d2b1e49da8925f75057898728",
            "value": "Downloading (…)cial_tokens_map.json: 100%"
          }
        },
        "ca401fa5b85c4e79b9231b33a29cacbc": {
          "model_module": "@jupyter-widgets/controls",
          "model_module_version": "1.5.0",
          "model_name": "HBoxModel",
          "state": {
            "_dom_classes": [],
            "_model_module": "@jupyter-widgets/controls",
            "_model_module_version": "1.5.0",
            "_model_name": "HBoxModel",
            "_view_count": null,
            "_view_module": "@jupyter-widgets/controls",
            "_view_module_version": "1.5.0",
            "_view_name": "HBoxView",
            "box_style": "",
            "children": [
              "IPY_MODEL_228707cac90c4895906d02738f18af3a",
              "IPY_MODEL_f0e98bc0b4e4452c93f7d44ad0cd8854",
              "IPY_MODEL_36bd254fb3f74bd59f6b1cde1c9a0dc9"
            ],
            "layout": "IPY_MODEL_2c9a3867a4164f6f974ac45ba3e7b66e"
          }
        },
        "cde5795188484a68b99593868e9b273b": {
          "model_module": "@jupyter-widgets/base",
          "model_module_version": "1.2.0",
          "model_name": "LayoutModel",
          "state": {
            "_model_module": "@jupyter-widgets/base",
            "_model_module_version": "1.2.0",
            "_model_name": "LayoutModel",
            "_view_count": null,
            "_view_module": "@jupyter-widgets/base",
            "_view_module_version": "1.2.0",
            "_view_name": "LayoutView",
            "align_content": null,
            "align_items": null,
            "align_self": null,
            "border": null,
            "bottom": null,
            "display": null,
            "flex": null,
            "flex_flow": null,
            "grid_area": null,
            "grid_auto_columns": null,
            "grid_auto_flow": null,
            "grid_auto_rows": null,
            "grid_column": null,
            "grid_gap": null,
            "grid_row": null,
            "grid_template_areas": null,
            "grid_template_columns": null,
            "grid_template_rows": null,
            "height": null,
            "justify_content": null,
            "justify_items": null,
            "left": null,
            "margin": null,
            "max_height": null,
            "max_width": null,
            "min_height": null,
            "min_width": null,
            "object_fit": null,
            "object_position": null,
            "order": null,
            "overflow": null,
            "overflow_x": null,
            "overflow_y": null,
            "padding": null,
            "right": null,
            "top": null,
            "visibility": null,
            "width": null
          }
        },
        "d034b198e8a648f2a59b9e7c92f122b5": {
          "model_module": "@jupyter-widgets/controls",
          "model_module_version": "1.5.0",
          "model_name": "DescriptionStyleModel",
          "state": {
            "_model_module": "@jupyter-widgets/controls",
            "_model_module_version": "1.5.0",
            "_model_name": "DescriptionStyleModel",
            "_view_count": null,
            "_view_module": "@jupyter-widgets/base",
            "_view_module_version": "1.2.0",
            "_view_name": "StyleView",
            "description_width": ""
          }
        },
        "d1539f5154b84a008edea5ac64b4d812": {
          "model_module": "@jupyter-widgets/base",
          "model_module_version": "1.2.0",
          "model_name": "LayoutModel",
          "state": {
            "_model_module": "@jupyter-widgets/base",
            "_model_module_version": "1.2.0",
            "_model_name": "LayoutModel",
            "_view_count": null,
            "_view_module": "@jupyter-widgets/base",
            "_view_module_version": "1.2.0",
            "_view_name": "LayoutView",
            "align_content": null,
            "align_items": null,
            "align_self": null,
            "border": null,
            "bottom": null,
            "display": null,
            "flex": null,
            "flex_flow": null,
            "grid_area": null,
            "grid_auto_columns": null,
            "grid_auto_flow": null,
            "grid_auto_rows": null,
            "grid_column": null,
            "grid_gap": null,
            "grid_row": null,
            "grid_template_areas": null,
            "grid_template_columns": null,
            "grid_template_rows": null,
            "height": null,
            "justify_content": null,
            "justify_items": null,
            "left": null,
            "margin": null,
            "max_height": null,
            "max_width": null,
            "min_height": null,
            "min_width": null,
            "object_fit": null,
            "object_position": null,
            "order": null,
            "overflow": null,
            "overflow_x": null,
            "overflow_y": null,
            "padding": null,
            "right": null,
            "top": null,
            "visibility": null,
            "width": null
          }
        },
        "d400e37690d442b0a3089205ca7f3927": {
          "model_module": "@jupyter-widgets/controls",
          "model_module_version": "1.5.0",
          "model_name": "HTMLModel",
          "state": {
            "_dom_classes": [],
            "_model_module": "@jupyter-widgets/controls",
            "_model_module_version": "1.5.0",
            "_model_name": "HTMLModel",
            "_view_count": null,
            "_view_module": "@jupyter-widgets/controls",
            "_view_module_version": "1.5.0",
            "_view_name": "HTMLView",
            "description": "",
            "description_tooltip": null,
            "layout": "IPY_MODEL_ef4bd7b52c134198918f9680c577a757",
            "placeholder": "​",
            "style": "IPY_MODEL_64ff4366c4c34efd85eaac9150997bde",
            "value": " 2.24G/2.24G [00:45&lt;00:00, 60.6MB/s]"
          }
        },
        "d8ad531e52874d68849c43d0d1e04d9e": {
          "model_module": "@jupyter-widgets/controls",
          "model_module_version": "1.5.0",
          "model_name": "HTMLModel",
          "state": {
            "_dom_classes": [],
            "_model_module": "@jupyter-widgets/controls",
            "_model_module_version": "1.5.0",
            "_model_name": "HTMLModel",
            "_view_count": null,
            "_view_module": "@jupyter-widgets/controls",
            "_view_module_version": "1.5.0",
            "_view_name": "HTMLView",
            "description": "",
            "description_tooltip": null,
            "layout": "IPY_MODEL_df2db6d93e7849f3b5ea50f3e7d6de1e",
            "placeholder": "​",
            "style": "IPY_MODEL_d034b198e8a648f2a59b9e7c92f122b5",
            "value": " 1.01k/1.01k [00:00&lt;00:00, 24.6kB/s]"
          }
        },
        "dea87df47f284ca3996f33d645eb5408": {
          "model_module": "@jupyter-widgets/base",
          "model_module_version": "1.2.0",
          "model_name": "LayoutModel",
          "state": {
            "_model_module": "@jupyter-widgets/base",
            "_model_module_version": "1.2.0",
            "_model_name": "LayoutModel",
            "_view_count": null,
            "_view_module": "@jupyter-widgets/base",
            "_view_module_version": "1.2.0",
            "_view_name": "LayoutView",
            "align_content": null,
            "align_items": null,
            "align_self": null,
            "border": null,
            "bottom": null,
            "display": null,
            "flex": null,
            "flex_flow": null,
            "grid_area": null,
            "grid_auto_columns": null,
            "grid_auto_flow": null,
            "grid_auto_rows": null,
            "grid_column": null,
            "grid_gap": null,
            "grid_row": null,
            "grid_template_areas": null,
            "grid_template_columns": null,
            "grid_template_rows": null,
            "height": null,
            "justify_content": null,
            "justify_items": null,
            "left": null,
            "margin": null,
            "max_height": null,
            "max_width": null,
            "min_height": null,
            "min_width": null,
            "object_fit": null,
            "object_position": null,
            "order": null,
            "overflow": null,
            "overflow_x": null,
            "overflow_y": null,
            "padding": null,
            "right": null,
            "top": null,
            "visibility": null,
            "width": null
          }
        },
        "df2db6d93e7849f3b5ea50f3e7d6de1e": {
          "model_module": "@jupyter-widgets/base",
          "model_module_version": "1.2.0",
          "model_name": "LayoutModel",
          "state": {
            "_model_module": "@jupyter-widgets/base",
            "_model_module_version": "1.2.0",
            "_model_name": "LayoutModel",
            "_view_count": null,
            "_view_module": "@jupyter-widgets/base",
            "_view_module_version": "1.2.0",
            "_view_name": "LayoutView",
            "align_content": null,
            "align_items": null,
            "align_self": null,
            "border": null,
            "bottom": null,
            "display": null,
            "flex": null,
            "flex_flow": null,
            "grid_area": null,
            "grid_auto_columns": null,
            "grid_auto_flow": null,
            "grid_auto_rows": null,
            "grid_column": null,
            "grid_gap": null,
            "grid_row": null,
            "grid_template_areas": null,
            "grid_template_columns": null,
            "grid_template_rows": null,
            "height": null,
            "justify_content": null,
            "justify_items": null,
            "left": null,
            "margin": null,
            "max_height": null,
            "max_width": null,
            "min_height": null,
            "min_width": null,
            "object_fit": null,
            "object_position": null,
            "order": null,
            "overflow": null,
            "overflow_x": null,
            "overflow_y": null,
            "padding": null,
            "right": null,
            "top": null,
            "visibility": null,
            "width": null
          }
        },
        "e20fb7e6fac741078796defc4d8e5f4c": {
          "model_module": "@jupyter-widgets/base",
          "model_module_version": "1.2.0",
          "model_name": "LayoutModel",
          "state": {
            "_model_module": "@jupyter-widgets/base",
            "_model_module_version": "1.2.0",
            "_model_name": "LayoutModel",
            "_view_count": null,
            "_view_module": "@jupyter-widgets/base",
            "_view_module_version": "1.2.0",
            "_view_name": "LayoutView",
            "align_content": null,
            "align_items": null,
            "align_self": null,
            "border": null,
            "bottom": null,
            "display": null,
            "flex": null,
            "flex_flow": null,
            "grid_area": null,
            "grid_auto_columns": null,
            "grid_auto_flow": null,
            "grid_auto_rows": null,
            "grid_column": null,
            "grid_gap": null,
            "grid_row": null,
            "grid_template_areas": null,
            "grid_template_columns": null,
            "grid_template_rows": null,
            "height": null,
            "justify_content": null,
            "justify_items": null,
            "left": null,
            "margin": null,
            "max_height": null,
            "max_width": null,
            "min_height": null,
            "min_width": null,
            "object_fit": null,
            "object_position": null,
            "order": null,
            "overflow": null,
            "overflow_x": null,
            "overflow_y": null,
            "padding": null,
            "right": null,
            "top": null,
            "visibility": null,
            "width": null
          }
        },
        "e3724a53cb6345b9abb46637629186cb": {
          "model_module": "@jupyter-widgets/controls",
          "model_module_version": "1.5.0",
          "model_name": "ProgressStyleModel",
          "state": {
            "_model_module": "@jupyter-widgets/controls",
            "_model_module_version": "1.5.0",
            "_model_name": "ProgressStyleModel",
            "_view_count": null,
            "_view_module": "@jupyter-widgets/base",
            "_view_module_version": "1.2.0",
            "_view_name": "StyleView",
            "bar_color": null,
            "description_width": ""
          }
        },
        "e756fd6a105c4b78995a93fe9df0ed61": {
          "model_module": "@jupyter-widgets/base",
          "model_module_version": "1.2.0",
          "model_name": "LayoutModel",
          "state": {
            "_model_module": "@jupyter-widgets/base",
            "_model_module_version": "1.2.0",
            "_model_name": "LayoutModel",
            "_view_count": null,
            "_view_module": "@jupyter-widgets/base",
            "_view_module_version": "1.2.0",
            "_view_name": "LayoutView",
            "align_content": null,
            "align_items": null,
            "align_self": null,
            "border": null,
            "bottom": null,
            "display": null,
            "flex": null,
            "flex_flow": null,
            "grid_area": null,
            "grid_auto_columns": null,
            "grid_auto_flow": null,
            "grid_auto_rows": null,
            "grid_column": null,
            "grid_gap": null,
            "grid_row": null,
            "grid_template_areas": null,
            "grid_template_columns": null,
            "grid_template_rows": null,
            "height": null,
            "justify_content": null,
            "justify_items": null,
            "left": null,
            "margin": null,
            "max_height": null,
            "max_width": null,
            "min_height": null,
            "min_width": null,
            "object_fit": null,
            "object_position": null,
            "order": null,
            "overflow": null,
            "overflow_x": null,
            "overflow_y": null,
            "padding": null,
            "right": null,
            "top": null,
            "visibility": null,
            "width": null
          }
        },
        "ef4bd7b52c134198918f9680c577a757": {
          "model_module": "@jupyter-widgets/base",
          "model_module_version": "1.2.0",
          "model_name": "LayoutModel",
          "state": {
            "_model_module": "@jupyter-widgets/base",
            "_model_module_version": "1.2.0",
            "_model_name": "LayoutModel",
            "_view_count": null,
            "_view_module": "@jupyter-widgets/base",
            "_view_module_version": "1.2.0",
            "_view_name": "LayoutView",
            "align_content": null,
            "align_items": null,
            "align_self": null,
            "border": null,
            "bottom": null,
            "display": null,
            "flex": null,
            "flex_flow": null,
            "grid_area": null,
            "grid_auto_columns": null,
            "grid_auto_flow": null,
            "grid_auto_rows": null,
            "grid_column": null,
            "grid_gap": null,
            "grid_row": null,
            "grid_template_areas": null,
            "grid_template_columns": null,
            "grid_template_rows": null,
            "height": null,
            "justify_content": null,
            "justify_items": null,
            "left": null,
            "margin": null,
            "max_height": null,
            "max_width": null,
            "min_height": null,
            "min_width": null,
            "object_fit": null,
            "object_position": null,
            "order": null,
            "overflow": null,
            "overflow_x": null,
            "overflow_y": null,
            "padding": null,
            "right": null,
            "top": null,
            "visibility": null,
            "width": null
          }
        },
        "efc3941d2b1e49da8925f75057898728": {
          "model_module": "@jupyter-widgets/controls",
          "model_module_version": "1.5.0",
          "model_name": "DescriptionStyleModel",
          "state": {
            "_model_module": "@jupyter-widgets/controls",
            "_model_module_version": "1.5.0",
            "_model_name": "DescriptionStyleModel",
            "_view_count": null,
            "_view_module": "@jupyter-widgets/base",
            "_view_module_version": "1.2.0",
            "_view_name": "StyleView",
            "description_width": ""
          }
        },
        "f0e98bc0b4e4452c93f7d44ad0cd8854": {
          "model_module": "@jupyter-widgets/controls",
          "model_module_version": "1.5.0",
          "model_name": "FloatProgressModel",
          "state": {
            "_dom_classes": [],
            "_model_module": "@jupyter-widgets/controls",
            "_model_module_version": "1.5.0",
            "_model_name": "FloatProgressModel",
            "_view_count": null,
            "_view_module": "@jupyter-widgets/controls",
            "_view_module_version": "1.5.0",
            "_view_name": "ProgressView",
            "bar_style": "success",
            "description": "",
            "description_tooltip": null,
            "layout": "IPY_MODEL_a3c41ad5bbd94b71b2b0481c1bd3d563",
            "max": 9081351,
            "min": 0,
            "orientation": "horizontal",
            "style": "IPY_MODEL_3e79d3e6b5d0443e8fe64ca8a7e6de21",
            "value": 9081351
          }
        },
        "fb70fb77bc92468e99e8af240a473142": {
          "model_module": "@jupyter-widgets/controls",
          "model_module_version": "1.5.0",
          "model_name": "DescriptionStyleModel",
          "state": {
            "_model_module": "@jupyter-widgets/controls",
            "_model_module_version": "1.5.0",
            "_model_name": "DescriptionStyleModel",
            "_view_count": null,
            "_view_module": "@jupyter-widgets/base",
            "_view_module_version": "1.2.0",
            "_view_name": "StyleView",
            "description_width": ""
          }
        }
      }
    }
  },
  "nbformat": 4,
  "nbformat_minor": 5
}
